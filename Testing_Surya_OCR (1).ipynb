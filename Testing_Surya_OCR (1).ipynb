{
  "nbformat": 4,
  "nbformat_minor": 0,
  "metadata": {
    "colab": {
      "provenance": [],
      "gpuType": "T4"
    },
    "kernelspec": {
      "name": "python3",
      "display_name": "Python 3"
    },
    "language_info": {
      "name": "python"
    },
    "accelerator": "GPU",
    "widgets": {
      "application/vnd.jupyter.widget-state+json": {
        "a5fe47177af24024af2aacf0dc622640": {
          "model_module": "@jupyter-widgets/controls",
          "model_name": "HBoxModel",
          "model_module_version": "1.5.0",
          "state": {
            "_dom_classes": [],
            "_model_module": "@jupyter-widgets/controls",
            "_model_module_version": "1.5.0",
            "_model_name": "HBoxModel",
            "_view_count": null,
            "_view_module": "@jupyter-widgets/controls",
            "_view_module_version": "1.5.0",
            "_view_name": "HBoxView",
            "box_style": "",
            "children": [
              "IPY_MODEL_8b3882493fea43f195ed75c22cba21a0",
              "IPY_MODEL_1f0c00df1871456b976173fd756678f8",
              "IPY_MODEL_e0be391792b548aa8b1294d985b8cd99"
            ],
            "layout": "IPY_MODEL_eedbf712c8b248d4bb418e16c6666726"
          }
        },
        "8b3882493fea43f195ed75c22cba21a0": {
          "model_module": "@jupyter-widgets/controls",
          "model_name": "HTMLModel",
          "model_module_version": "1.5.0",
          "state": {
            "_dom_classes": [],
            "_model_module": "@jupyter-widgets/controls",
            "_model_module_version": "1.5.0",
            "_model_name": "HTMLModel",
            "_view_count": null,
            "_view_module": "@jupyter-widgets/controls",
            "_view_module_version": "1.5.0",
            "_view_name": "HTMLView",
            "description": "",
            "description_tooltip": null,
            "layout": "IPY_MODEL_ec56c7462d2a4a7e87545cf777c8da4d",
            "placeholder": "​",
            "style": "IPY_MODEL_2df1c473df8b462394b8c84a19b3389c",
            "value": "config.json: 100%"
          }
        },
        "1f0c00df1871456b976173fd756678f8": {
          "model_module": "@jupyter-widgets/controls",
          "model_name": "FloatProgressModel",
          "model_module_version": "1.5.0",
          "state": {
            "_dom_classes": [],
            "_model_module": "@jupyter-widgets/controls",
            "_model_module_version": "1.5.0",
            "_model_name": "FloatProgressModel",
            "_view_count": null,
            "_view_module": "@jupyter-widgets/controls",
            "_view_module_version": "1.5.0",
            "_view_name": "ProgressView",
            "bar_style": "success",
            "description": "",
            "description_tooltip": null,
            "layout": "IPY_MODEL_610b3a1c2a5f40bb9ee390a2c9601fea",
            "max": 6912,
            "min": 0,
            "orientation": "horizontal",
            "style": "IPY_MODEL_d4a5e0bb7dde4a0caf7f93677bd4055a",
            "value": 6912
          }
        },
        "e0be391792b548aa8b1294d985b8cd99": {
          "model_module": "@jupyter-widgets/controls",
          "model_name": "HTMLModel",
          "model_module_version": "1.5.0",
          "state": {
            "_dom_classes": [],
            "_model_module": "@jupyter-widgets/controls",
            "_model_module_version": "1.5.0",
            "_model_name": "HTMLModel",
            "_view_count": null,
            "_view_module": "@jupyter-widgets/controls",
            "_view_module_version": "1.5.0",
            "_view_name": "HTMLView",
            "description": "",
            "description_tooltip": null,
            "layout": "IPY_MODEL_a21e93982779424d970591fda731a02b",
            "placeholder": "​",
            "style": "IPY_MODEL_d56db16ea8374be580f5821508360a8c",
            "value": " 6.91k/6.91k [00:00&lt;00:00, 295kB/s]"
          }
        },
        "eedbf712c8b248d4bb418e16c6666726": {
          "model_module": "@jupyter-widgets/base",
          "model_name": "LayoutModel",
          "model_module_version": "1.2.0",
          "state": {
            "_model_module": "@jupyter-widgets/base",
            "_model_module_version": "1.2.0",
            "_model_name": "LayoutModel",
            "_view_count": null,
            "_view_module": "@jupyter-widgets/base",
            "_view_module_version": "1.2.0",
            "_view_name": "LayoutView",
            "align_content": null,
            "align_items": null,
            "align_self": null,
            "border": null,
            "bottom": null,
            "display": null,
            "flex": null,
            "flex_flow": null,
            "grid_area": null,
            "grid_auto_columns": null,
            "grid_auto_flow": null,
            "grid_auto_rows": null,
            "grid_column": null,
            "grid_gap": null,
            "grid_row": null,
            "grid_template_areas": null,
            "grid_template_columns": null,
            "grid_template_rows": null,
            "height": null,
            "justify_content": null,
            "justify_items": null,
            "left": null,
            "margin": null,
            "max_height": null,
            "max_width": null,
            "min_height": null,
            "min_width": null,
            "object_fit": null,
            "object_position": null,
            "order": null,
            "overflow": null,
            "overflow_x": null,
            "overflow_y": null,
            "padding": null,
            "right": null,
            "top": null,
            "visibility": null,
            "width": null
          }
        },
        "ec56c7462d2a4a7e87545cf777c8da4d": {
          "model_module": "@jupyter-widgets/base",
          "model_name": "LayoutModel",
          "model_module_version": "1.2.0",
          "state": {
            "_model_module": "@jupyter-widgets/base",
            "_model_module_version": "1.2.0",
            "_model_name": "LayoutModel",
            "_view_count": null,
            "_view_module": "@jupyter-widgets/base",
            "_view_module_version": "1.2.0",
            "_view_name": "LayoutView",
            "align_content": null,
            "align_items": null,
            "align_self": null,
            "border": null,
            "bottom": null,
            "display": null,
            "flex": null,
            "flex_flow": null,
            "grid_area": null,
            "grid_auto_columns": null,
            "grid_auto_flow": null,
            "grid_auto_rows": null,
            "grid_column": null,
            "grid_gap": null,
            "grid_row": null,
            "grid_template_areas": null,
            "grid_template_columns": null,
            "grid_template_rows": null,
            "height": null,
            "justify_content": null,
            "justify_items": null,
            "left": null,
            "margin": null,
            "max_height": null,
            "max_width": null,
            "min_height": null,
            "min_width": null,
            "object_fit": null,
            "object_position": null,
            "order": null,
            "overflow": null,
            "overflow_x": null,
            "overflow_y": null,
            "padding": null,
            "right": null,
            "top": null,
            "visibility": null,
            "width": null
          }
        },
        "2df1c473df8b462394b8c84a19b3389c": {
          "model_module": "@jupyter-widgets/controls",
          "model_name": "DescriptionStyleModel",
          "model_module_version": "1.5.0",
          "state": {
            "_model_module": "@jupyter-widgets/controls",
            "_model_module_version": "1.5.0",
            "_model_name": "DescriptionStyleModel",
            "_view_count": null,
            "_view_module": "@jupyter-widgets/base",
            "_view_module_version": "1.2.0",
            "_view_name": "StyleView",
            "description_width": ""
          }
        },
        "610b3a1c2a5f40bb9ee390a2c9601fea": {
          "model_module": "@jupyter-widgets/base",
          "model_name": "LayoutModel",
          "model_module_version": "1.2.0",
          "state": {
            "_model_module": "@jupyter-widgets/base",
            "_model_module_version": "1.2.0",
            "_model_name": "LayoutModel",
            "_view_count": null,
            "_view_module": "@jupyter-widgets/base",
            "_view_module_version": "1.2.0",
            "_view_name": "LayoutView",
            "align_content": null,
            "align_items": null,
            "align_self": null,
            "border": null,
            "bottom": null,
            "display": null,
            "flex": null,
            "flex_flow": null,
            "grid_area": null,
            "grid_auto_columns": null,
            "grid_auto_flow": null,
            "grid_auto_rows": null,
            "grid_column": null,
            "grid_gap": null,
            "grid_row": null,
            "grid_template_areas": null,
            "grid_template_columns": null,
            "grid_template_rows": null,
            "height": null,
            "justify_content": null,
            "justify_items": null,
            "left": null,
            "margin": null,
            "max_height": null,
            "max_width": null,
            "min_height": null,
            "min_width": null,
            "object_fit": null,
            "object_position": null,
            "order": null,
            "overflow": null,
            "overflow_x": null,
            "overflow_y": null,
            "padding": null,
            "right": null,
            "top": null,
            "visibility": null,
            "width": null
          }
        },
        "d4a5e0bb7dde4a0caf7f93677bd4055a": {
          "model_module": "@jupyter-widgets/controls",
          "model_name": "ProgressStyleModel",
          "model_module_version": "1.5.0",
          "state": {
            "_model_module": "@jupyter-widgets/controls",
            "_model_module_version": "1.5.0",
            "_model_name": "ProgressStyleModel",
            "_view_count": null,
            "_view_module": "@jupyter-widgets/base",
            "_view_module_version": "1.2.0",
            "_view_name": "StyleView",
            "bar_color": null,
            "description_width": ""
          }
        },
        "a21e93982779424d970591fda731a02b": {
          "model_module": "@jupyter-widgets/base",
          "model_name": "LayoutModel",
          "model_module_version": "1.2.0",
          "state": {
            "_model_module": "@jupyter-widgets/base",
            "_model_module_version": "1.2.0",
            "_model_name": "LayoutModel",
            "_view_count": null,
            "_view_module": "@jupyter-widgets/base",
            "_view_module_version": "1.2.0",
            "_view_name": "LayoutView",
            "align_content": null,
            "align_items": null,
            "align_self": null,
            "border": null,
            "bottom": null,
            "display": null,
            "flex": null,
            "flex_flow": null,
            "grid_area": null,
            "grid_auto_columns": null,
            "grid_auto_flow": null,
            "grid_auto_rows": null,
            "grid_column": null,
            "grid_gap": null,
            "grid_row": null,
            "grid_template_areas": null,
            "grid_template_columns": null,
            "grid_template_rows": null,
            "height": null,
            "justify_content": null,
            "justify_items": null,
            "left": null,
            "margin": null,
            "max_height": null,
            "max_width": null,
            "min_height": null,
            "min_width": null,
            "object_fit": null,
            "object_position": null,
            "order": null,
            "overflow": null,
            "overflow_x": null,
            "overflow_y": null,
            "padding": null,
            "right": null,
            "top": null,
            "visibility": null,
            "width": null
          }
        },
        "d56db16ea8374be580f5821508360a8c": {
          "model_module": "@jupyter-widgets/controls",
          "model_name": "DescriptionStyleModel",
          "model_module_version": "1.5.0",
          "state": {
            "_model_module": "@jupyter-widgets/controls",
            "_model_module_version": "1.5.0",
            "_model_name": "DescriptionStyleModel",
            "_view_count": null,
            "_view_module": "@jupyter-widgets/base",
            "_view_module_version": "1.2.0",
            "_view_name": "StyleView",
            "description_width": ""
          }
        },
        "e7aed9aa76964fb9bff3ac97a0490d35": {
          "model_module": "@jupyter-widgets/controls",
          "model_name": "HBoxModel",
          "model_module_version": "1.5.0",
          "state": {
            "_dom_classes": [],
            "_model_module": "@jupyter-widgets/controls",
            "_model_module_version": "1.5.0",
            "_model_name": "HBoxModel",
            "_view_count": null,
            "_view_module": "@jupyter-widgets/controls",
            "_view_module_version": "1.5.0",
            "_view_name": "HBoxView",
            "box_style": "",
            "children": [
              "IPY_MODEL_d82a8851bf6140c3bb12f99b86e67a07",
              "IPY_MODEL_b3a51f3c4476457ab1d021279c5254af",
              "IPY_MODEL_69e4421afa1b4ba48bf93559be999b10"
            ],
            "layout": "IPY_MODEL_8d3e8fb602594c36aed7f23e639c0a9e"
          }
        },
        "d82a8851bf6140c3bb12f99b86e67a07": {
          "model_module": "@jupyter-widgets/controls",
          "model_name": "HTMLModel",
          "model_module_version": "1.5.0",
          "state": {
            "_dom_classes": [],
            "_model_module": "@jupyter-widgets/controls",
            "_model_module_version": "1.5.0",
            "_model_name": "HTMLModel",
            "_view_count": null,
            "_view_module": "@jupyter-widgets/controls",
            "_view_module_version": "1.5.0",
            "_view_name": "HTMLView",
            "description": "",
            "description_tooltip": null,
            "layout": "IPY_MODEL_6194bae2131348caa9bc4e3cc9742ba7",
            "placeholder": "​",
            "style": "IPY_MODEL_e6787f62302f4775a141f20d37013958",
            "value": "model.safetensors: 100%"
          }
        },
        "b3a51f3c4476457ab1d021279c5254af": {
          "model_module": "@jupyter-widgets/controls",
          "model_name": "FloatProgressModel",
          "model_module_version": "1.5.0",
          "state": {
            "_dom_classes": [],
            "_model_module": "@jupyter-widgets/controls",
            "_model_module_version": "1.5.0",
            "_model_name": "FloatProgressModel",
            "_view_count": null,
            "_view_module": "@jupyter-widgets/controls",
            "_view_module_version": "1.5.0",
            "_view_name": "ProgressView",
            "bar_style": "success",
            "description": "",
            "description_tooltip": null,
            "layout": "IPY_MODEL_6da7ace67af5450eb74179791f72abf5",
            "max": 1048833584,
            "min": 0,
            "orientation": "horizontal",
            "style": "IPY_MODEL_9ce17845b70d4d7287b4b0b0a51a60e4",
            "value": 1048833584
          }
        },
        "69e4421afa1b4ba48bf93559be999b10": {
          "model_module": "@jupyter-widgets/controls",
          "model_name": "HTMLModel",
          "model_module_version": "1.5.0",
          "state": {
            "_dom_classes": [],
            "_model_module": "@jupyter-widgets/controls",
            "_model_module_version": "1.5.0",
            "_model_name": "HTMLModel",
            "_view_count": null,
            "_view_module": "@jupyter-widgets/controls",
            "_view_module_version": "1.5.0",
            "_view_name": "HTMLView",
            "description": "",
            "description_tooltip": null,
            "layout": "IPY_MODEL_67220734f1dc4421bc3e10d1af41c63f",
            "placeholder": "​",
            "style": "IPY_MODEL_2588ec911b6e44d89eac92d4c9df0344",
            "value": " 1.05G/1.05G [00:09&lt;00:00, 52.5MB/s]"
          }
        },
        "8d3e8fb602594c36aed7f23e639c0a9e": {
          "model_module": "@jupyter-widgets/base",
          "model_name": "LayoutModel",
          "model_module_version": "1.2.0",
          "state": {
            "_model_module": "@jupyter-widgets/base",
            "_model_module_version": "1.2.0",
            "_model_name": "LayoutModel",
            "_view_count": null,
            "_view_module": "@jupyter-widgets/base",
            "_view_module_version": "1.2.0",
            "_view_name": "LayoutView",
            "align_content": null,
            "align_items": null,
            "align_self": null,
            "border": null,
            "bottom": null,
            "display": null,
            "flex": null,
            "flex_flow": null,
            "grid_area": null,
            "grid_auto_columns": null,
            "grid_auto_flow": null,
            "grid_auto_rows": null,
            "grid_column": null,
            "grid_gap": null,
            "grid_row": null,
            "grid_template_areas": null,
            "grid_template_columns": null,
            "grid_template_rows": null,
            "height": null,
            "justify_content": null,
            "justify_items": null,
            "left": null,
            "margin": null,
            "max_height": null,
            "max_width": null,
            "min_height": null,
            "min_width": null,
            "object_fit": null,
            "object_position": null,
            "order": null,
            "overflow": null,
            "overflow_x": null,
            "overflow_y": null,
            "padding": null,
            "right": null,
            "top": null,
            "visibility": null,
            "width": null
          }
        },
        "6194bae2131348caa9bc4e3cc9742ba7": {
          "model_module": "@jupyter-widgets/base",
          "model_name": "LayoutModel",
          "model_module_version": "1.2.0",
          "state": {
            "_model_module": "@jupyter-widgets/base",
            "_model_module_version": "1.2.0",
            "_model_name": "LayoutModel",
            "_view_count": null,
            "_view_module": "@jupyter-widgets/base",
            "_view_module_version": "1.2.0",
            "_view_name": "LayoutView",
            "align_content": null,
            "align_items": null,
            "align_self": null,
            "border": null,
            "bottom": null,
            "display": null,
            "flex": null,
            "flex_flow": null,
            "grid_area": null,
            "grid_auto_columns": null,
            "grid_auto_flow": null,
            "grid_auto_rows": null,
            "grid_column": null,
            "grid_gap": null,
            "grid_row": null,
            "grid_template_areas": null,
            "grid_template_columns": null,
            "grid_template_rows": null,
            "height": null,
            "justify_content": null,
            "justify_items": null,
            "left": null,
            "margin": null,
            "max_height": null,
            "max_width": null,
            "min_height": null,
            "min_width": null,
            "object_fit": null,
            "object_position": null,
            "order": null,
            "overflow": null,
            "overflow_x": null,
            "overflow_y": null,
            "padding": null,
            "right": null,
            "top": null,
            "visibility": null,
            "width": null
          }
        },
        "e6787f62302f4775a141f20d37013958": {
          "model_module": "@jupyter-widgets/controls",
          "model_name": "DescriptionStyleModel",
          "model_module_version": "1.5.0",
          "state": {
            "_model_module": "@jupyter-widgets/controls",
            "_model_module_version": "1.5.0",
            "_model_name": "DescriptionStyleModel",
            "_view_count": null,
            "_view_module": "@jupyter-widgets/base",
            "_view_module_version": "1.2.0",
            "_view_name": "StyleView",
            "description_width": ""
          }
        },
        "6da7ace67af5450eb74179791f72abf5": {
          "model_module": "@jupyter-widgets/base",
          "model_name": "LayoutModel",
          "model_module_version": "1.2.0",
          "state": {
            "_model_module": "@jupyter-widgets/base",
            "_model_module_version": "1.2.0",
            "_model_name": "LayoutModel",
            "_view_count": null,
            "_view_module": "@jupyter-widgets/base",
            "_view_module_version": "1.2.0",
            "_view_name": "LayoutView",
            "align_content": null,
            "align_items": null,
            "align_self": null,
            "border": null,
            "bottom": null,
            "display": null,
            "flex": null,
            "flex_flow": null,
            "grid_area": null,
            "grid_auto_columns": null,
            "grid_auto_flow": null,
            "grid_auto_rows": null,
            "grid_column": null,
            "grid_gap": null,
            "grid_row": null,
            "grid_template_areas": null,
            "grid_template_columns": null,
            "grid_template_rows": null,
            "height": null,
            "justify_content": null,
            "justify_items": null,
            "left": null,
            "margin": null,
            "max_height": null,
            "max_width": null,
            "min_height": null,
            "min_width": null,
            "object_fit": null,
            "object_position": null,
            "order": null,
            "overflow": null,
            "overflow_x": null,
            "overflow_y": null,
            "padding": null,
            "right": null,
            "top": null,
            "visibility": null,
            "width": null
          }
        },
        "9ce17845b70d4d7287b4b0b0a51a60e4": {
          "model_module": "@jupyter-widgets/controls",
          "model_name": "ProgressStyleModel",
          "model_module_version": "1.5.0",
          "state": {
            "_model_module": "@jupyter-widgets/controls",
            "_model_module_version": "1.5.0",
            "_model_name": "ProgressStyleModel",
            "_view_count": null,
            "_view_module": "@jupyter-widgets/base",
            "_view_module_version": "1.2.0",
            "_view_name": "StyleView",
            "bar_color": null,
            "description_width": ""
          }
        },
        "67220734f1dc4421bc3e10d1af41c63f": {
          "model_module": "@jupyter-widgets/base",
          "model_name": "LayoutModel",
          "model_module_version": "1.2.0",
          "state": {
            "_model_module": "@jupyter-widgets/base",
            "_model_module_version": "1.2.0",
            "_model_name": "LayoutModel",
            "_view_count": null,
            "_view_module": "@jupyter-widgets/base",
            "_view_module_version": "1.2.0",
            "_view_name": "LayoutView",
            "align_content": null,
            "align_items": null,
            "align_self": null,
            "border": null,
            "bottom": null,
            "display": null,
            "flex": null,
            "flex_flow": null,
            "grid_area": null,
            "grid_auto_columns": null,
            "grid_auto_flow": null,
            "grid_auto_rows": null,
            "grid_column": null,
            "grid_gap": null,
            "grid_row": null,
            "grid_template_areas": null,
            "grid_template_columns": null,
            "grid_template_rows": null,
            "height": null,
            "justify_content": null,
            "justify_items": null,
            "left": null,
            "margin": null,
            "max_height": null,
            "max_width": null,
            "min_height": null,
            "min_width": null,
            "object_fit": null,
            "object_position": null,
            "order": null,
            "overflow": null,
            "overflow_x": null,
            "overflow_y": null,
            "padding": null,
            "right": null,
            "top": null,
            "visibility": null,
            "width": null
          }
        },
        "2588ec911b6e44d89eac92d4c9df0344": {
          "model_module": "@jupyter-widgets/controls",
          "model_name": "DescriptionStyleModel",
          "model_module_version": "1.5.0",
          "state": {
            "_model_module": "@jupyter-widgets/controls",
            "_model_module_version": "1.5.0",
            "_model_name": "DescriptionStyleModel",
            "_view_count": null,
            "_view_module": "@jupyter-widgets/base",
            "_view_module_version": "1.2.0",
            "_view_name": "StyleView",
            "description_width": ""
          }
        },
        "326156f4b6884b97b018a97fffef273e": {
          "model_module": "@jupyter-widgets/controls",
          "model_name": "HBoxModel",
          "model_module_version": "1.5.0",
          "state": {
            "_dom_classes": [],
            "_model_module": "@jupyter-widgets/controls",
            "_model_module_version": "1.5.0",
            "_model_name": "HBoxModel",
            "_view_count": null,
            "_view_module": "@jupyter-widgets/controls",
            "_view_module_version": "1.5.0",
            "_view_name": "HBoxView",
            "box_style": "",
            "children": [
              "IPY_MODEL_e219b436e341468ebb30caf0cf125ce7",
              "IPY_MODEL_ff10f896178d40a28d96a640b850af33",
              "IPY_MODEL_a51703adf33c4de1a6023f9a74952373"
            ],
            "layout": "IPY_MODEL_08dccd098ddb484ebc0505178e8a0c67"
          }
        },
        "e219b436e341468ebb30caf0cf125ce7": {
          "model_module": "@jupyter-widgets/controls",
          "model_name": "HTMLModel",
          "model_module_version": "1.5.0",
          "state": {
            "_dom_classes": [],
            "_model_module": "@jupyter-widgets/controls",
            "_model_module_version": "1.5.0",
            "_model_name": "HTMLModel",
            "_view_count": null,
            "_view_module": "@jupyter-widgets/controls",
            "_view_module_version": "1.5.0",
            "_view_name": "HTMLView",
            "description": "",
            "description_tooltip": null,
            "layout": "IPY_MODEL_ee8350e823804e218a3d1df98894edfc",
            "placeholder": "​",
            "style": "IPY_MODEL_802fedc5eb374245b84ea46ea407fc6c",
            "value": "generation_config.json: 100%"
          }
        },
        "ff10f896178d40a28d96a640b850af33": {
          "model_module": "@jupyter-widgets/controls",
          "model_name": "FloatProgressModel",
          "model_module_version": "1.5.0",
          "state": {
            "_dom_classes": [],
            "_model_module": "@jupyter-widgets/controls",
            "_model_module_version": "1.5.0",
            "_model_name": "FloatProgressModel",
            "_view_count": null,
            "_view_module": "@jupyter-widgets/controls",
            "_view_module_version": "1.5.0",
            "_view_name": "ProgressView",
            "bar_style": "success",
            "description": "",
            "description_tooltip": null,
            "layout": "IPY_MODEL_9c437084d1b542e6b967d26f6037ae6f",
            "max": 181,
            "min": 0,
            "orientation": "horizontal",
            "style": "IPY_MODEL_214ab99ac7504ed8bf3060a4e7c98f0c",
            "value": 181
          }
        },
        "a51703adf33c4de1a6023f9a74952373": {
          "model_module": "@jupyter-widgets/controls",
          "model_name": "HTMLModel",
          "model_module_version": "1.5.0",
          "state": {
            "_dom_classes": [],
            "_model_module": "@jupyter-widgets/controls",
            "_model_module_version": "1.5.0",
            "_model_name": "HTMLModel",
            "_view_count": null,
            "_view_module": "@jupyter-widgets/controls",
            "_view_module_version": "1.5.0",
            "_view_name": "HTMLView",
            "description": "",
            "description_tooltip": null,
            "layout": "IPY_MODEL_929873d58e8b4de396d35c802ccb8e72",
            "placeholder": "​",
            "style": "IPY_MODEL_c0c4cde9b3e547c5839ae5b0a66f1717",
            "value": " 181/181 [00:00&lt;00:00, 6.83kB/s]"
          }
        },
        "08dccd098ddb484ebc0505178e8a0c67": {
          "model_module": "@jupyter-widgets/base",
          "model_name": "LayoutModel",
          "model_module_version": "1.2.0",
          "state": {
            "_model_module": "@jupyter-widgets/base",
            "_model_module_version": "1.2.0",
            "_model_name": "LayoutModel",
            "_view_count": null,
            "_view_module": "@jupyter-widgets/base",
            "_view_module_version": "1.2.0",
            "_view_name": "LayoutView",
            "align_content": null,
            "align_items": null,
            "align_self": null,
            "border": null,
            "bottom": null,
            "display": null,
            "flex": null,
            "flex_flow": null,
            "grid_area": null,
            "grid_auto_columns": null,
            "grid_auto_flow": null,
            "grid_auto_rows": null,
            "grid_column": null,
            "grid_gap": null,
            "grid_row": null,
            "grid_template_areas": null,
            "grid_template_columns": null,
            "grid_template_rows": null,
            "height": null,
            "justify_content": null,
            "justify_items": null,
            "left": null,
            "margin": null,
            "max_height": null,
            "max_width": null,
            "min_height": null,
            "min_width": null,
            "object_fit": null,
            "object_position": null,
            "order": null,
            "overflow": null,
            "overflow_x": null,
            "overflow_y": null,
            "padding": null,
            "right": null,
            "top": null,
            "visibility": null,
            "width": null
          }
        },
        "ee8350e823804e218a3d1df98894edfc": {
          "model_module": "@jupyter-widgets/base",
          "model_name": "LayoutModel",
          "model_module_version": "1.2.0",
          "state": {
            "_model_module": "@jupyter-widgets/base",
            "_model_module_version": "1.2.0",
            "_model_name": "LayoutModel",
            "_view_count": null,
            "_view_module": "@jupyter-widgets/base",
            "_view_module_version": "1.2.0",
            "_view_name": "LayoutView",
            "align_content": null,
            "align_items": null,
            "align_self": null,
            "border": null,
            "bottom": null,
            "display": null,
            "flex": null,
            "flex_flow": null,
            "grid_area": null,
            "grid_auto_columns": null,
            "grid_auto_flow": null,
            "grid_auto_rows": null,
            "grid_column": null,
            "grid_gap": null,
            "grid_row": null,
            "grid_template_areas": null,
            "grid_template_columns": null,
            "grid_template_rows": null,
            "height": null,
            "justify_content": null,
            "justify_items": null,
            "left": null,
            "margin": null,
            "max_height": null,
            "max_width": null,
            "min_height": null,
            "min_width": null,
            "object_fit": null,
            "object_position": null,
            "order": null,
            "overflow": null,
            "overflow_x": null,
            "overflow_y": null,
            "padding": null,
            "right": null,
            "top": null,
            "visibility": null,
            "width": null
          }
        },
        "802fedc5eb374245b84ea46ea407fc6c": {
          "model_module": "@jupyter-widgets/controls",
          "model_name": "DescriptionStyleModel",
          "model_module_version": "1.5.0",
          "state": {
            "_model_module": "@jupyter-widgets/controls",
            "_model_module_version": "1.5.0",
            "_model_name": "DescriptionStyleModel",
            "_view_count": null,
            "_view_module": "@jupyter-widgets/base",
            "_view_module_version": "1.2.0",
            "_view_name": "StyleView",
            "description_width": ""
          }
        },
        "9c437084d1b542e6b967d26f6037ae6f": {
          "model_module": "@jupyter-widgets/base",
          "model_name": "LayoutModel",
          "model_module_version": "1.2.0",
          "state": {
            "_model_module": "@jupyter-widgets/base",
            "_model_module_version": "1.2.0",
            "_model_name": "LayoutModel",
            "_view_count": null,
            "_view_module": "@jupyter-widgets/base",
            "_view_module_version": "1.2.0",
            "_view_name": "LayoutView",
            "align_content": null,
            "align_items": null,
            "align_self": null,
            "border": null,
            "bottom": null,
            "display": null,
            "flex": null,
            "flex_flow": null,
            "grid_area": null,
            "grid_auto_columns": null,
            "grid_auto_flow": null,
            "grid_auto_rows": null,
            "grid_column": null,
            "grid_gap": null,
            "grid_row": null,
            "grid_template_areas": null,
            "grid_template_columns": null,
            "grid_template_rows": null,
            "height": null,
            "justify_content": null,
            "justify_items": null,
            "left": null,
            "margin": null,
            "max_height": null,
            "max_width": null,
            "min_height": null,
            "min_width": null,
            "object_fit": null,
            "object_position": null,
            "order": null,
            "overflow": null,
            "overflow_x": null,
            "overflow_y": null,
            "padding": null,
            "right": null,
            "top": null,
            "visibility": null,
            "width": null
          }
        },
        "214ab99ac7504ed8bf3060a4e7c98f0c": {
          "model_module": "@jupyter-widgets/controls",
          "model_name": "ProgressStyleModel",
          "model_module_version": "1.5.0",
          "state": {
            "_model_module": "@jupyter-widgets/controls",
            "_model_module_version": "1.5.0",
            "_model_name": "ProgressStyleModel",
            "_view_count": null,
            "_view_module": "@jupyter-widgets/base",
            "_view_module_version": "1.2.0",
            "_view_name": "StyleView",
            "bar_color": null,
            "description_width": ""
          }
        },
        "929873d58e8b4de396d35c802ccb8e72": {
          "model_module": "@jupyter-widgets/base",
          "model_name": "LayoutModel",
          "model_module_version": "1.2.0",
          "state": {
            "_model_module": "@jupyter-widgets/base",
            "_model_module_version": "1.2.0",
            "_model_name": "LayoutModel",
            "_view_count": null,
            "_view_module": "@jupyter-widgets/base",
            "_view_module_version": "1.2.0",
            "_view_name": "LayoutView",
            "align_content": null,
            "align_items": null,
            "align_self": null,
            "border": null,
            "bottom": null,
            "display": null,
            "flex": null,
            "flex_flow": null,
            "grid_area": null,
            "grid_auto_columns": null,
            "grid_auto_flow": null,
            "grid_auto_rows": null,
            "grid_column": null,
            "grid_gap": null,
            "grid_row": null,
            "grid_template_areas": null,
            "grid_template_columns": null,
            "grid_template_rows": null,
            "height": null,
            "justify_content": null,
            "justify_items": null,
            "left": null,
            "margin": null,
            "max_height": null,
            "max_width": null,
            "min_height": null,
            "min_width": null,
            "object_fit": null,
            "object_position": null,
            "order": null,
            "overflow": null,
            "overflow_x": null,
            "overflow_y": null,
            "padding": null,
            "right": null,
            "top": null,
            "visibility": null,
            "width": null
          }
        },
        "c0c4cde9b3e547c5839ae5b0a66f1717": {
          "model_module": "@jupyter-widgets/controls",
          "model_name": "DescriptionStyleModel",
          "model_module_version": "1.5.0",
          "state": {
            "_model_module": "@jupyter-widgets/controls",
            "_model_module_version": "1.5.0",
            "_model_name": "DescriptionStyleModel",
            "_view_count": null,
            "_view_module": "@jupyter-widgets/base",
            "_view_module_version": "1.2.0",
            "_view_name": "StyleView",
            "description_width": ""
          }
        },
        "0b65d52e6d4e46ba9169d3c4bb525fff": {
          "model_module": "@jupyter-widgets/controls",
          "model_name": "HBoxModel",
          "model_module_version": "1.5.0",
          "state": {
            "_dom_classes": [],
            "_model_module": "@jupyter-widgets/controls",
            "_model_module_version": "1.5.0",
            "_model_name": "HBoxModel",
            "_view_count": null,
            "_view_module": "@jupyter-widgets/controls",
            "_view_module_version": "1.5.0",
            "_view_name": "HBoxView",
            "box_style": "",
            "children": [
              "IPY_MODEL_160e9d36308045b4a919ecd2c8ae6ce4",
              "IPY_MODEL_8e02acdc32fb48808bed2b4199f9ce09",
              "IPY_MODEL_0d3cf9adff1e4ee894c2d9a26afb95a2"
            ],
            "layout": "IPY_MODEL_bcd915860a314b8d9979afb6a9fa3ecd"
          }
        },
        "160e9d36308045b4a919ecd2c8ae6ce4": {
          "model_module": "@jupyter-widgets/controls",
          "model_name": "HTMLModel",
          "model_module_version": "1.5.0",
          "state": {
            "_dom_classes": [],
            "_model_module": "@jupyter-widgets/controls",
            "_model_module_version": "1.5.0",
            "_model_name": "HTMLModel",
            "_view_count": null,
            "_view_module": "@jupyter-widgets/controls",
            "_view_module_version": "1.5.0",
            "_view_name": "HTMLView",
            "description": "",
            "description_tooltip": null,
            "layout": "IPY_MODEL_c689054d13fc4de9a29415794ea1c192",
            "placeholder": "​",
            "style": "IPY_MODEL_488495134a814abfb53208896af84c39",
            "value": "preprocessor_config.json: 100%"
          }
        },
        "8e02acdc32fb48808bed2b4199f9ce09": {
          "model_module": "@jupyter-widgets/controls",
          "model_name": "FloatProgressModel",
          "model_module_version": "1.5.0",
          "state": {
            "_dom_classes": [],
            "_model_module": "@jupyter-widgets/controls",
            "_model_module_version": "1.5.0",
            "_model_name": "FloatProgressModel",
            "_view_count": null,
            "_view_module": "@jupyter-widgets/controls",
            "_view_module_version": "1.5.0",
            "_view_name": "ProgressView",
            "bar_style": "success",
            "description": "",
            "description_tooltip": null,
            "layout": "IPY_MODEL_7c024b699c21410a9b25d83dfc7631ca",
            "max": 608,
            "min": 0,
            "orientation": "horizontal",
            "style": "IPY_MODEL_b7589f5af512411e8185cfc118194252",
            "value": 608
          }
        },
        "0d3cf9adff1e4ee894c2d9a26afb95a2": {
          "model_module": "@jupyter-widgets/controls",
          "model_name": "HTMLModel",
          "model_module_version": "1.5.0",
          "state": {
            "_dom_classes": [],
            "_model_module": "@jupyter-widgets/controls",
            "_model_module_version": "1.5.0",
            "_model_name": "HTMLModel",
            "_view_count": null,
            "_view_module": "@jupyter-widgets/controls",
            "_view_module_version": "1.5.0",
            "_view_name": "HTMLView",
            "description": "",
            "description_tooltip": null,
            "layout": "IPY_MODEL_2b9f29f8932c4b78b254ac33f1cd03df",
            "placeholder": "​",
            "style": "IPY_MODEL_166866b59e3144a792f7bdaa5b3667ed",
            "value": " 608/608 [00:00&lt;00:00, 38.3kB/s]"
          }
        },
        "bcd915860a314b8d9979afb6a9fa3ecd": {
          "model_module": "@jupyter-widgets/base",
          "model_name": "LayoutModel",
          "model_module_version": "1.2.0",
          "state": {
            "_model_module": "@jupyter-widgets/base",
            "_model_module_version": "1.2.0",
            "_model_name": "LayoutModel",
            "_view_count": null,
            "_view_module": "@jupyter-widgets/base",
            "_view_module_version": "1.2.0",
            "_view_name": "LayoutView",
            "align_content": null,
            "align_items": null,
            "align_self": null,
            "border": null,
            "bottom": null,
            "display": null,
            "flex": null,
            "flex_flow": null,
            "grid_area": null,
            "grid_auto_columns": null,
            "grid_auto_flow": null,
            "grid_auto_rows": null,
            "grid_column": null,
            "grid_gap": null,
            "grid_row": null,
            "grid_template_areas": null,
            "grid_template_columns": null,
            "grid_template_rows": null,
            "height": null,
            "justify_content": null,
            "justify_items": null,
            "left": null,
            "margin": null,
            "max_height": null,
            "max_width": null,
            "min_height": null,
            "min_width": null,
            "object_fit": null,
            "object_position": null,
            "order": null,
            "overflow": null,
            "overflow_x": null,
            "overflow_y": null,
            "padding": null,
            "right": null,
            "top": null,
            "visibility": null,
            "width": null
          }
        },
        "c689054d13fc4de9a29415794ea1c192": {
          "model_module": "@jupyter-widgets/base",
          "model_name": "LayoutModel",
          "model_module_version": "1.2.0",
          "state": {
            "_model_module": "@jupyter-widgets/base",
            "_model_module_version": "1.2.0",
            "_model_name": "LayoutModel",
            "_view_count": null,
            "_view_module": "@jupyter-widgets/base",
            "_view_module_version": "1.2.0",
            "_view_name": "LayoutView",
            "align_content": null,
            "align_items": null,
            "align_self": null,
            "border": null,
            "bottom": null,
            "display": null,
            "flex": null,
            "flex_flow": null,
            "grid_area": null,
            "grid_auto_columns": null,
            "grid_auto_flow": null,
            "grid_auto_rows": null,
            "grid_column": null,
            "grid_gap": null,
            "grid_row": null,
            "grid_template_areas": null,
            "grid_template_columns": null,
            "grid_template_rows": null,
            "height": null,
            "justify_content": null,
            "justify_items": null,
            "left": null,
            "margin": null,
            "max_height": null,
            "max_width": null,
            "min_height": null,
            "min_width": null,
            "object_fit": null,
            "object_position": null,
            "order": null,
            "overflow": null,
            "overflow_x": null,
            "overflow_y": null,
            "padding": null,
            "right": null,
            "top": null,
            "visibility": null,
            "width": null
          }
        },
        "488495134a814abfb53208896af84c39": {
          "model_module": "@jupyter-widgets/controls",
          "model_name": "DescriptionStyleModel",
          "model_module_version": "1.5.0",
          "state": {
            "_model_module": "@jupyter-widgets/controls",
            "_model_module_version": "1.5.0",
            "_model_name": "DescriptionStyleModel",
            "_view_count": null,
            "_view_module": "@jupyter-widgets/base",
            "_view_module_version": "1.2.0",
            "_view_name": "StyleView",
            "description_width": ""
          }
        },
        "7c024b699c21410a9b25d83dfc7631ca": {
          "model_module": "@jupyter-widgets/base",
          "model_name": "LayoutModel",
          "model_module_version": "1.2.0",
          "state": {
            "_model_module": "@jupyter-widgets/base",
            "_model_module_version": "1.2.0",
            "_model_name": "LayoutModel",
            "_view_count": null,
            "_view_module": "@jupyter-widgets/base",
            "_view_module_version": "1.2.0",
            "_view_name": "LayoutView",
            "align_content": null,
            "align_items": null,
            "align_self": null,
            "border": null,
            "bottom": null,
            "display": null,
            "flex": null,
            "flex_flow": null,
            "grid_area": null,
            "grid_auto_columns": null,
            "grid_auto_flow": null,
            "grid_auto_rows": null,
            "grid_column": null,
            "grid_gap": null,
            "grid_row": null,
            "grid_template_areas": null,
            "grid_template_columns": null,
            "grid_template_rows": null,
            "height": null,
            "justify_content": null,
            "justify_items": null,
            "left": null,
            "margin": null,
            "max_height": null,
            "max_width": null,
            "min_height": null,
            "min_width": null,
            "object_fit": null,
            "object_position": null,
            "order": null,
            "overflow": null,
            "overflow_x": null,
            "overflow_y": null,
            "padding": null,
            "right": null,
            "top": null,
            "visibility": null,
            "width": null
          }
        },
        "b7589f5af512411e8185cfc118194252": {
          "model_module": "@jupyter-widgets/controls",
          "model_name": "ProgressStyleModel",
          "model_module_version": "1.5.0",
          "state": {
            "_model_module": "@jupyter-widgets/controls",
            "_model_module_version": "1.5.0",
            "_model_name": "ProgressStyleModel",
            "_view_count": null,
            "_view_module": "@jupyter-widgets/base",
            "_view_module_version": "1.2.0",
            "_view_name": "StyleView",
            "bar_color": null,
            "description_width": ""
          }
        },
        "2b9f29f8932c4b78b254ac33f1cd03df": {
          "model_module": "@jupyter-widgets/base",
          "model_name": "LayoutModel",
          "model_module_version": "1.2.0",
          "state": {
            "_model_module": "@jupyter-widgets/base",
            "_model_module_version": "1.2.0",
            "_model_name": "LayoutModel",
            "_view_count": null,
            "_view_module": "@jupyter-widgets/base",
            "_view_module_version": "1.2.0",
            "_view_name": "LayoutView",
            "align_content": null,
            "align_items": null,
            "align_self": null,
            "border": null,
            "bottom": null,
            "display": null,
            "flex": null,
            "flex_flow": null,
            "grid_area": null,
            "grid_auto_columns": null,
            "grid_auto_flow": null,
            "grid_auto_rows": null,
            "grid_column": null,
            "grid_gap": null,
            "grid_row": null,
            "grid_template_areas": null,
            "grid_template_columns": null,
            "grid_template_rows": null,
            "height": null,
            "justify_content": null,
            "justify_items": null,
            "left": null,
            "margin": null,
            "max_height": null,
            "max_width": null,
            "min_height": null,
            "min_width": null,
            "object_fit": null,
            "object_position": null,
            "order": null,
            "overflow": null,
            "overflow_x": null,
            "overflow_y": null,
            "padding": null,
            "right": null,
            "top": null,
            "visibility": null,
            "width": null
          }
        },
        "166866b59e3144a792f7bdaa5b3667ed": {
          "model_module": "@jupyter-widgets/controls",
          "model_name": "DescriptionStyleModel",
          "model_module_version": "1.5.0",
          "state": {
            "_model_module": "@jupyter-widgets/controls",
            "_model_module_version": "1.5.0",
            "_model_name": "DescriptionStyleModel",
            "_view_count": null,
            "_view_module": "@jupyter-widgets/base",
            "_view_module_version": "1.2.0",
            "_view_name": "StyleView",
            "description_width": ""
          }
        }
      }
    }
  },
  "cells": [
    {
      "cell_type": "code",
      "execution_count": 1,
      "metadata": {
        "colab": {
          "base_uri": "https://localhost:8080/"
        },
        "id": "dGtHOrCa7Y_h",
        "outputId": "1b6a63c4-3ee0-442e-a2a5-195b8bf10325"
      },
      "outputs": [
        {
          "output_type": "stream",
          "name": "stdout",
          "text": [
            "Requirement already satisfied: surya-ocr in /usr/local/lib/python3.10/dist-packages (0.4.0)\n",
            "Requirement already satisfied: filetype<2.0.0,>=1.2.0 in /usr/local/lib/python3.10/dist-packages (from surya-ocr) (1.2.0)\n",
            "Requirement already satisfied: ftfy<7.0.0,>=6.1.3 in /usr/local/lib/python3.10/dist-packages (from surya-ocr) (6.2.0)\n",
            "Requirement already satisfied: opencv-python<5.0.0.0,>=4.9.0.80 in /usr/local/lib/python3.10/dist-packages (from surya-ocr) (4.9.0.80)\n",
            "Requirement already satisfied: pillow<11.0.0,>=10.2.0 in /usr/local/lib/python3.10/dist-packages (from surya-ocr) (10.3.0)\n",
            "Requirement already satisfied: pydantic<3.0.0,>=2.5.3 in /usr/local/lib/python3.10/dist-packages (from surya-ocr) (2.7.1)\n",
            "Requirement already satisfied: pydantic-settings<3.0.0,>=2.1.0 in /usr/local/lib/python3.10/dist-packages (from surya-ocr) (2.2.1)\n",
            "Requirement already satisfied: pypdfium2<5.0.0,>=4.25.0 in /usr/local/lib/python3.10/dist-packages (from surya-ocr) (4.29.0)\n",
            "Requirement already satisfied: python-dotenv<2.0.0,>=1.0.0 in /usr/local/lib/python3.10/dist-packages (from surya-ocr) (1.0.1)\n",
            "Requirement already satisfied: tabulate<0.10.0,>=0.9.0 in /usr/local/lib/python3.10/dist-packages (from surya-ocr) (0.9.0)\n",
            "Requirement already satisfied: transformers==4.36.2 in /usr/local/lib/python3.10/dist-packages (from surya-ocr) (4.36.2)\n",
            "Requirement already satisfied: filelock in /usr/local/lib/python3.10/dist-packages (from transformers==4.36.2->surya-ocr) (3.14.0)\n",
            "Requirement already satisfied: huggingface-hub<1.0,>=0.19.3 in /usr/local/lib/python3.10/dist-packages (from transformers==4.36.2->surya-ocr) (0.20.3)\n",
            "Requirement already satisfied: numpy>=1.17 in /usr/local/lib/python3.10/dist-packages (from transformers==4.36.2->surya-ocr) (1.25.2)\n",
            "Requirement already satisfied: packaging>=20.0 in /usr/local/lib/python3.10/dist-packages (from transformers==4.36.2->surya-ocr) (24.0)\n",
            "Requirement already satisfied: pyyaml>=5.1 in /usr/local/lib/python3.10/dist-packages (from transformers==4.36.2->surya-ocr) (6.0.1)\n",
            "Requirement already satisfied: regex!=2019.12.17 in /usr/local/lib/python3.10/dist-packages (from transformers==4.36.2->surya-ocr) (2023.12.25)\n",
            "Requirement already satisfied: requests in /usr/local/lib/python3.10/dist-packages (from transformers==4.36.2->surya-ocr) (2.31.0)\n",
            "Requirement already satisfied: tokenizers<0.19,>=0.14 in /usr/local/lib/python3.10/dist-packages (from transformers==4.36.2->surya-ocr) (0.15.2)\n",
            "Requirement already satisfied: safetensors>=0.3.1 in /usr/local/lib/python3.10/dist-packages (from transformers==4.36.2->surya-ocr) (0.4.3)\n",
            "Requirement already satisfied: tqdm>=4.27 in /usr/local/lib/python3.10/dist-packages (from transformers==4.36.2->surya-ocr) (4.66.4)\n",
            "Requirement already satisfied: wcwidth<0.3.0,>=0.2.12 in /usr/local/lib/python3.10/dist-packages (from ftfy<7.0.0,>=6.1.3->surya-ocr) (0.2.13)\n",
            "Requirement already satisfied: annotated-types>=0.4.0 in /usr/local/lib/python3.10/dist-packages (from pydantic<3.0.0,>=2.5.3->surya-ocr) (0.6.0)\n",
            "Requirement already satisfied: pydantic-core==2.18.2 in /usr/local/lib/python3.10/dist-packages (from pydantic<3.0.0,>=2.5.3->surya-ocr) (2.18.2)\n",
            "Requirement already satisfied: typing-extensions>=4.6.1 in /usr/local/lib/python3.10/dist-packages (from pydantic<3.0.0,>=2.5.3->surya-ocr) (4.11.0)\n",
            "Requirement already satisfied: fsspec>=2023.5.0 in /usr/local/lib/python3.10/dist-packages (from huggingface-hub<1.0,>=0.19.3->transformers==4.36.2->surya-ocr) (2023.6.0)\n",
            "Requirement already satisfied: charset-normalizer<4,>=2 in /usr/local/lib/python3.10/dist-packages (from requests->transformers==4.36.2->surya-ocr) (3.3.2)\n",
            "Requirement already satisfied: idna<4,>=2.5 in /usr/local/lib/python3.10/dist-packages (from requests->transformers==4.36.2->surya-ocr) (3.7)\n",
            "Requirement already satisfied: urllib3<3,>=1.21.1 in /usr/local/lib/python3.10/dist-packages (from requests->transformers==4.36.2->surya-ocr) (2.0.7)\n",
            "Requirement already satisfied: certifi>=2017.4.17 in /usr/local/lib/python3.10/dist-packages (from requests->transformers==4.36.2->surya-ocr) (2024.2.2)\n"
          ]
        }
      ],
      "source": [
        "!pip install surya-ocr"
      ]
    },
    {
      "cell_type": "code",
      "source": [
        "!wget https://3.imimg.com/data3/YL/VW/MY-14706987/times-of-india.jpg"
      ],
      "metadata": {
        "colab": {
          "base_uri": "https://localhost:8080/"
        },
        "id": "kxFClmcM8dsB",
        "outputId": "06f34be7-47d3-4af6-ac4b-a7139b212026"
      },
      "execution_count": null,
      "outputs": [
        {
          "output_type": "stream",
          "name": "stdout",
          "text": [
            "--2024-01-14 17:12:24--  https://3.imimg.com/data3/YL/VW/MY-14706987/times-of-india.jpg\n",
            "Resolving 3.imimg.com (3.imimg.com)... 18.160.46.119, 18.160.46.53, 18.160.46.11, ...\n",
            "Connecting to 3.imimg.com (3.imimg.com)|18.160.46.119|:443... connected.\n",
            "HTTP request sent, awaiting response... 200 OK\n",
            "Length: unspecified [image/jpeg]\n",
            "Saving to: ‘times-of-india.jpg’\n",
            "\n",
            "times-of-india.jpg      [   <=>              ] 265.65K   355KB/s    in 0.7s    \n",
            "\n",
            "2024-01-14 17:12:26 (355 KB/s) - ‘times-of-india.jpg’ saved [272030]\n",
            "\n"
          ]
        }
      ]
    },
    {
      "cell_type": "code",
      "source": [
        "!surya_detect /content/medical.png --images"
      ],
      "metadata": {
        "colab": {
          "base_uri": "https://localhost:8080/"
        },
        "id": "nag7cyya9c-m",
        "outputId": "693616c5-6d55-4e46-e4c3-c921634863cb"
      },
      "execution_count": 2,
      "outputs": [
        {
          "output_type": "stream",
          "name": "stdout",
          "text": [
            "2024-05-08 13:50:58.551702: E external/local_xla/xla/stream_executor/cuda/cuda_dnn.cc:9261] Unable to register cuDNN factory: Attempting to register factory for plugin cuDNN when one has already been registered\n",
            "2024-05-08 13:50:58.551767: E external/local_xla/xla/stream_executor/cuda/cuda_fft.cc:607] Unable to register cuFFT factory: Attempting to register factory for plugin cuFFT when one has already been registered\n",
            "2024-05-08 13:50:58.553643: E external/local_xla/xla/stream_executor/cuda/cuda_blas.cc:1515] Unable to register cuBLAS factory: Attempting to register factory for plugin cuBLAS when one has already been registered\n",
            "2024-05-08 13:50:59.644967: W tensorflow/compiler/tf2tensorrt/utils/py_utils.cc:38] TF-TRT Warning: Could not find TensorRT\n",
            "config.json: 100% 1.18k/1.18k [00:00<00:00, 7.15MB/s]\n",
            "model.safetensors: 100% 120M/120M [00:00<00:00, 191MB/s]\n",
            "Loading detection model vikp/surya_det2 on device cuda with dtype torch.float16\n",
            "preprocessor_config.json: 100% 430/430 [00:00<00:00, 3.04MB/s]\n",
            "Detecting bboxes: 100% 1/1 [00:01<00:00,  1.34s/it]\n",
            "Wrote results to results/surya/medical\n"
          ]
        }
      ]
    },
    {
      "cell_type": "code",
      "source": [
        "#!wget https://www.newspaperkart.com/media/newsletter/The%20Times%20of%20India%20newspaper-1486577264.jpg"
      ],
      "metadata": {
        "colab": {
          "base_uri": "https://localhost:8080/"
        },
        "id": "K7N7wo0m9hBM",
        "outputId": "a70daae3-01e3-4d52-9c64-127c5984f274"
      },
      "execution_count": null,
      "outputs": [
        {
          "output_type": "stream",
          "name": "stdout",
          "text": [
            "--2024-01-14 17:28:13--  https://www.newspaperkart.com/media/newsletter/The%20Times%20of%20India%20newspaper-1486577264.jpg\n",
            "Resolving www.newspaperkart.com (www.newspaperkart.com)... 139.59.12.155\n",
            "Connecting to www.newspaperkart.com (www.newspaperkart.com)|139.59.12.155|:443... connected.\n",
            "HTTP request sent, awaiting response... 200 OK\n",
            "Length: 164130 (160K) [image/jpeg]\n",
            "Saving to: ‘The Times of India newspaper-1486577264.jpg’\n",
            "\n",
            "The Times of India  100%[===================>] 160.28K   210KB/s    in 0.8s    \n",
            "\n",
            "2024-01-14 17:28:15 (210 KB/s) - ‘The Times of India newspaper-1486577264.jpg’ saved [164130/164130]\n",
            "\n"
          ]
        }
      ]
    },
    {
      "cell_type": "code",
      "source": [
        "#!surya_detect \"/content/The Times of India newspaper-1486577264.jpg\" --images"
      ],
      "metadata": {
        "colab": {
          "base_uri": "https://localhost:8080/"
        },
        "id": "ljYqfprKBEo2",
        "outputId": "d49e0152-9988-41fd-dbb2-ed13e8638e3e"
      },
      "execution_count": null,
      "outputs": [
        {
          "output_type": "stream",
          "name": "stdout",
          "text": [
            "2024-01-14 17:28:51.338375: E external/local_xla/xla/stream_executor/cuda/cuda_dnn.cc:9261] Unable to register cuDNN factory: Attempting to register factory for plugin cuDNN when one has already been registered\n",
            "2024-01-14 17:28:51.338444: E external/local_xla/xla/stream_executor/cuda/cuda_fft.cc:607] Unable to register cuFFT factory: Attempting to register factory for plugin cuFFT when one has already been registered\n",
            "2024-01-14 17:28:51.340352: E external/local_xla/xla/stream_executor/cuda/cuda_blas.cc:1515] Unable to register cuBLAS factory: Attempting to register factory for plugin cuBLAS when one has already been registered\n",
            "2024-01-14 17:28:53.045140: W tensorflow/compiler/tf2tensorrt/utils/py_utils.cc:38] TF-TRT Warning: Could not find TensorRT\n",
            "Wrote results to results/surya/The Times of India newspaper-1486577264\n"
          ]
        }
      ]
    },
    {
      "cell_type": "code",
      "source": [
        "from PIL import Image\n",
        "from surya.ocr import run_ocr\n",
        "from surya.model.detection import segformer\n",
        "from surya.model.recognition.model import load_model\n",
        "from surya.model.recognition.processor import load_processor\n",
        "image_path = \"/content/medical.png\"  # Replace with your image or PDF path\n",
        "langs = [\"en\"]  # Specify the languages you want to detect text in\n",
        "\n",
        "det_processor, det_model = segformer.load_processor(), segformer.load_model()\n",
        "rec_model, rec_processor = load_model(), load_processor()\n"
      ],
      "metadata": {
        "id": "50f19kxVBNHG",
        "outputId": "e9d57753-6388-437a-c695-716a7ce8c70a",
        "colab": {
          "base_uri": "https://localhost:8080/",
          "height": 304,
          "referenced_widgets": [
            "a5fe47177af24024af2aacf0dc622640",
            "8b3882493fea43f195ed75c22cba21a0",
            "1f0c00df1871456b976173fd756678f8",
            "e0be391792b548aa8b1294d985b8cd99",
            "eedbf712c8b248d4bb418e16c6666726",
            "ec56c7462d2a4a7e87545cf777c8da4d",
            "2df1c473df8b462394b8c84a19b3389c",
            "610b3a1c2a5f40bb9ee390a2c9601fea",
            "d4a5e0bb7dde4a0caf7f93677bd4055a",
            "a21e93982779424d970591fda731a02b",
            "d56db16ea8374be580f5821508360a8c",
            "e7aed9aa76964fb9bff3ac97a0490d35",
            "d82a8851bf6140c3bb12f99b86e67a07",
            "b3a51f3c4476457ab1d021279c5254af",
            "69e4421afa1b4ba48bf93559be999b10",
            "8d3e8fb602594c36aed7f23e639c0a9e",
            "6194bae2131348caa9bc4e3cc9742ba7",
            "e6787f62302f4775a141f20d37013958",
            "6da7ace67af5450eb74179791f72abf5",
            "9ce17845b70d4d7287b4b0b0a51a60e4",
            "67220734f1dc4421bc3e10d1af41c63f",
            "2588ec911b6e44d89eac92d4c9df0344",
            "326156f4b6884b97b018a97fffef273e",
            "e219b436e341468ebb30caf0cf125ce7",
            "ff10f896178d40a28d96a640b850af33",
            "a51703adf33c4de1a6023f9a74952373",
            "08dccd098ddb484ebc0505178e8a0c67",
            "ee8350e823804e218a3d1df98894edfc",
            "802fedc5eb374245b84ea46ea407fc6c",
            "9c437084d1b542e6b967d26f6037ae6f",
            "214ab99ac7504ed8bf3060a4e7c98f0c",
            "929873d58e8b4de396d35c802ccb8e72",
            "c0c4cde9b3e547c5839ae5b0a66f1717",
            "0b65d52e6d4e46ba9169d3c4bb525fff",
            "160e9d36308045b4a919ecd2c8ae6ce4",
            "8e02acdc32fb48808bed2b4199f9ce09",
            "0d3cf9adff1e4ee894c2d9a26afb95a2",
            "bcd915860a314b8d9979afb6a9fa3ecd",
            "c689054d13fc4de9a29415794ea1c192",
            "488495134a814abfb53208896af84c39",
            "7c024b699c21410a9b25d83dfc7631ca",
            "b7589f5af512411e8185cfc118194252",
            "2b9f29f8932c4b78b254ac33f1cd03df",
            "166866b59e3144a792f7bdaa5b3667ed"
          ]
        }
      },
      "execution_count": 3,
      "outputs": [
        {
          "output_type": "stream",
          "name": "stderr",
          "text": [
            "/usr/local/lib/python3.10/dist-packages/huggingface_hub/utils/_token.py:88: UserWarning: \n",
            "The secret `HF_TOKEN` does not exist in your Colab secrets.\n",
            "To authenticate with the Hugging Face Hub, create a token in your settings tab (https://huggingface.co/settings/tokens), set it as secret in your Google Colab and restart your session.\n",
            "You will be able to reuse this secret in all of your notebooks.\n",
            "Please note that authentication is recommended but still optional to access public models or datasets.\n",
            "  warnings.warn(\n"
          ]
        },
        {
          "output_type": "stream",
          "name": "stdout",
          "text": [
            "Loading detection model vikp/surya_det2 on device cuda with dtype torch.float16\n"
          ]
        },
        {
          "output_type": "display_data",
          "data": {
            "text/plain": [
              "config.json:   0%|          | 0.00/6.91k [00:00<?, ?B/s]"
            ],
            "application/vnd.jupyter.widget-view+json": {
              "version_major": 2,
              "version_minor": 0,
              "model_id": "a5fe47177af24024af2aacf0dc622640"
            }
          },
          "metadata": {}
        },
        {
          "output_type": "display_data",
          "data": {
            "text/plain": [
              "model.safetensors:   0%|          | 0.00/1.05G [00:00<?, ?B/s]"
            ],
            "application/vnd.jupyter.widget-view+json": {
              "version_major": 2,
              "version_minor": 0,
              "model_id": "e7aed9aa76964fb9bff3ac97a0490d35"
            }
          },
          "metadata": {}
        },
        {
          "output_type": "display_data",
          "data": {
            "text/plain": [
              "generation_config.json:   0%|          | 0.00/181 [00:00<?, ?B/s]"
            ],
            "application/vnd.jupyter.widget-view+json": {
              "version_major": 2,
              "version_minor": 0,
              "model_id": "326156f4b6884b97b018a97fffef273e"
            }
          },
          "metadata": {}
        },
        {
          "output_type": "stream",
          "name": "stdout",
          "text": [
            "Loading recognition model vikp/surya_rec on device cuda with dtype torch.float16\n"
          ]
        },
        {
          "output_type": "display_data",
          "data": {
            "text/plain": [
              "preprocessor_config.json:   0%|          | 0.00/608 [00:00<?, ?B/s]"
            ],
            "application/vnd.jupyter.widget-view+json": {
              "version_major": 2,
              "version_minor": 0,
              "model_id": "0b65d52e6d4e46ba9169d3c4bb525fff"
            }
          },
          "metadata": {}
        }
      ]
    },
    {
      "cell_type": "code",
      "source": [
        "image = Image.open(image_path)\n",
        "predictions = run_ocr([image], [langs], det_model, det_processor, rec_model, rec_processor)\n"
      ],
      "metadata": {
        "id": "KhOWJOSYxakM",
        "outputId": "f262d090-70ba-477c-b499-4d764ad712c5",
        "colab": {
          "base_uri": "https://localhost:8080/"
        }
      },
      "execution_count": 4,
      "outputs": [
        {
          "output_type": "stream",
          "name": "stderr",
          "text": [
            "Detecting bboxes: 100%|██████████| 1/1 [00:00<00:00,  2.04it/s]\n",
            "Recognizing Text:   0%|          | 0/1 [00:00<?, ?it/s]/usr/local/lib/python3.10/dist-packages/transformers/generation/utils.py:1518: UserWarning: You have modified the pretrained model configuration to control generation. This is a deprecated strategy to control generation and will be removed soon, in a future version. Please use and modify the model generation configuration (see https://huggingface.co/docs/transformers/generation_strategies#default-text-generation-configuration )\n",
            "  warnings.warn(\n",
            "Recognizing Text: 100%|██████████| 1/1 [00:05<00:00,  5.90s/it]\n"
          ]
        }
      ]
    },
    {
      "cell_type": "code",
      "source": [
        "print(type(predictions))\n",
        "print(predictions)"
      ],
      "metadata": {
        "id": "Lw2GTpi_xzC_",
        "outputId": "8302789c-d06e-4f7f-e3e0-69db1d5e4141",
        "colab": {
          "base_uri": "https://localhost:8080/"
        }
      },
      "execution_count": 5,
      "outputs": [
        {
          "output_type": "stream",
          "name": "stdout",
          "text": [
            "<class 'list'>\n",
            "[OCRResult(text_lines=[TextLine(polygon=[[26.0, 2.0], [178.0, 2.0], [178.0, 13.0], [26.0, 13.0]], confidence=0.6340448260307312, text='Model Mediations Mediations in Mediations', bbox=[26.0, 2.0, 178.0, 13.0]), TextLine(polygon=[[26.0, 19.0], [177.0, 19.0], [177.0, 23.0], [26.0, 23.0]], confidence=0.6310381889343262, text='BC control and control and control and control and control and control and control provides', bbox=[26.0, 19.0, 177.0, 23.0]), TextLine(polygon=[[54.0, 23.0], [149.0, 23.0], [149.0, 27.0], [54.0, 27.0]], confidence=0.6843289732933044, text='sense of the state', bbox=[54.0, 23.0, 149.0, 27.0]), TextLine(polygon=[[44.0, 27.0], [159.0, 27.0], [159.0, 31.0], [44.0, 32.0]], confidence=0.6744646430015564, text='As production in the context of the context of the context of the 201', bbox=[44.0, 27.0, 159.0, 31.0]), TextLine(polygon=[[12.0, 45.0], [66.0, 45.0], [66.0, 50.0], [12.0, 50.0]], confidence=0.5551627278327942, text='Port is Poplema biometrics.', bbox=[12.0, 45.0, 66.0, 50.0]), TextLine(polygon=[[12.0, 55.0], [20.0, 55.0], [20.0, 60.0], [12.0, 60.0]], confidence=0.27728271484375, text='den', bbox=[12.0, 55.0, 20.0, 60.0]), TextLine(polygon=[[88.0, 55.0], [101.0, 55.0], [101.0, 60.0], [88.0, 60.0]], confidence=0.4041573703289032, text='ign Ma', bbox=[88.0, 55.0, 101.0, 60.0]), TextLine(polygon=[[109.0, 55.0], [123.0, 55.0], [123.0, 60.0], [109.0, 60.0]], confidence=0.8198061585426331, text='[]', bbox=[109.0, 55.0, 123.0, 60.0]), TextLine(polygon=[[129.0, 55.0], [140.0, 55.0], [140.0, 60.0], [129.0, 60.0]], confidence=0.19370117783546448, text='11.0', bbox=[129.0, 55.0, 140.0, 60.0]), TextLine(polygon=[[72.0, 56.0], [81.0, 56.0], [81.0, 59.0], [72.0, 59.0]], confidence=0.8769638538360596, text='..', bbox=[72.0, 56.0, 81.0, 59.0]), TextLine(polygon=[[12.0, 72.0], [29.0, 72.0], [29.0, 77.0], [12.0, 77.0]], confidence=0.417510986328125, text='For New', bbox=[12.0, 72.0, 29.0, 77.0]), TextLine(polygon=[[12.0, 82.0], [36.0, 81.0], [36.0, 86.0], [12.0, 86.0]], confidence=0.5494273900985718, text='management', bbox=[12.0, 82.0, 36.0, 86.0]), TextLine(polygon=[[12.0, 91.0], [32.0, 91.0], [32.0, 95.0], [12.0, 95.0]], confidence=0.4093738794326782, text='manual and', bbox=[12.0, 91.0, 32.0, 95.0]), TextLine(polygon=[[83.0, 91.0], [111.0, 91.0], [111.0, 96.0], [83.0, 95.0]], confidence=0.3762919008731842, text='LONGENERING', bbox=[83.0, 91.0, 111.0, 96.0]), TextLine(polygon=[[12.0, 100.0], [39.0, 100.0], [39.0, 104.0], [12.0, 104.0]], confidence=0.5335964560508728, text='Selection in Fren', bbox=[12.0, 100.0, 39.0, 104.0]), TextLine(polygon=[[12.0, 117.0], [129.0, 117.0], [129.0, 122.0], [12.0, 122.0]], confidence=0.6709184050559998, text='Peri A: MoDel Islanding the properies for your lawford', bbox=[12.0, 117.0, 129.0, 122.0]), TextLine(polygon=[[160.0, 126.0], [172.0, 126.0], [172.0, 131.0], [160.0, 131.0]], confidence=0.2155558317899704, text='1.155', bbox=[160.0, 126.0, 172.0, 131.0]), TextLine(polygon=[[12.0, 127.0], [44.0, 127.0], [44.0, 131.0], [12.0, 131.0]], confidence=0.4393779933452606, text='LOOK OUTCOME', bbox=[12.0, 127.0, 44.0, 131.0]), TextLine(polygon=[[83.0, 127.0], [137.0, 126.0], [137.0, 131.0], [83.0, 131.0]], confidence=0.5582608580589294, text='AN THE RELATION AN IN', bbox=[83.0, 127.0, 137.0, 131.0]), TextLine(polygon=[[83.0, 131.0], [139.0, 131.0], [139.0, 135.0], [83.0, 135.0]], confidence=0.5688415765762329, text='services of control', bbox=[83.0, 131.0, 139.0, 135.0]), TextLine(polygon=[[83.0, 136.0], [111.0, 136.0], [111.0, 140.0], [83.0, 140.0]], confidence=0.48865509033203125, text='ONTOLD HISTORIC', bbox=[83.0, 136.0, 111.0, 140.0]), TextLine(polygon=[[12.0, 145.0], [44.0, 145.0], [44.0, 149.0], [12.0, 149.0]], confidence=0.44629624485969543, text='well-sidenthesis', bbox=[12.0, 145.0, 44.0, 149.0]), TextLine(polygon=[[12.0, 150.0], [43.0, 150.0], [43.0, 154.0], [12.0, 154.0]], confidence=0.31614381074905396, text='21 In 1999, p. 111.', bbox=[12.0, 150.0, 43.0, 154.0]), TextLine(polygon=[[12.0, 177.0], [37.0, 177.0], [37.0, 181.0], [12.0, 181.0]], confidence=0.4126753509044647, text='LANGUARY A', bbox=[12.0, 177.0, 37.0, 181.0]), TextLine(polygon=[[12.0, 182.0], [42.0, 181.0], [42.0, 186.0], [12.0, 186.0]], confidence=0.5082145929336548, text='MONTH PROFESSION', bbox=[12.0, 182.0, 42.0, 186.0]), TextLine(polygon=[[12.0, 186.0], [44.0, 186.0], [44.0, 190.0], [12.0, 190.0]], confidence=0.4119873046875, text='CONTROLLED', bbox=[12.0, 186.0, 44.0, 190.0]), TextLine(polygon=[[83.0, 206.0], [136.0, 206.0], [136.0, 211.0], [83.0, 211.0]], confidence=0.3853759765625, text='HERE AN ARTICLES', bbox=[83.0, 206.0, 136.0, 211.0]), TextLine(polygon=[[161.0, 206.0], [173.0, 206.0], [173.0, 211.0], [161.0, 211.0]], confidence=0.2376534640789032, text='21 :44', bbox=[161.0, 206.0, 173.0, 211.0]), TextLine(polygon=[[12.0, 207.0], [40.0, 207.0], [40.0, 211.0], [12.0, 211.0]], confidence=0.368896484375, text='AAA AND AN', bbox=[12.0, 207.0, 40.0, 211.0]), TextLine(polygon=[[142.0, 207.0], [155.0, 207.0], [155.0, 211.0], [142.0, 211.0]], confidence=0.8561769127845764, text='..', bbox=[142.0, 207.0, 155.0, 211.0]), TextLine(polygon=[[12.0, 211.0], [43.0, 211.0], [43.0, 215.0], [12.0, 215.0]], confidence=0.35333251953125, text='ENTROLLED', bbox=[12.0, 211.0, 43.0, 215.0]), TextLine(polygon=[[83.0, 211.0], [137.0, 211.0], [137.0, 215.0], [83.0, 215.0]], confidence=0.5625494718551636, text='10–01, 2002; March 2002; March 2002;', bbox=[83.0, 211.0, 137.0, 215.0]), TextLine(polygon=[[83.0, 215.0], [125.0, 215.0], [125.0, 220.0], [83.0, 220.0]], confidence=0.45140379667282104, text='IN MURDER IN DEGO-3', bbox=[83.0, 215.0, 125.0, 220.0]), TextLine(polygon=[[12.0, 216.0], [27.0, 215.0], [27.0, 220.0], [12.0, 220.0]], confidence=0.40520018339157104, text='emod', bbox=[12.0, 216.0, 27.0, 220.0]), TextLine(polygon=[[12.0, 225.0], [43.0, 225.0], [43.0, 229.0], [12.0, 230.0]], confidence=0.33962851762771606, text='1. In 1999, p. 11.', bbox=[12.0, 225.0, 43.0, 229.0])], languages=['en'], image_bbox=[0.0, 0.0, 203.0, 248.0])]\n"
          ]
        }
      ]
    },
    {
      "cell_type": "code",
      "source": [
        "# Assuming `predictions` is your OCR predictions list\n",
        "extracted_text = []\n",
        "\n",
        "for result in predictions:\n",
        "    for text_line in result.text_lines:\n",
        "        extracted_text.append(text_line.text)\n",
        "\n",
        "# Join the extracted text lines into a single string\n",
        "extracted_text_string = ' '.join(extracted_text)\n",
        "\n",
        "# Print the extracted text\n",
        "print(extracted_text_string)\n"
      ],
      "metadata": {
        "id": "L6uAhxxPzbed",
        "outputId": "763d5053-464c-4ffb-8945-24612bee5a70",
        "colab": {
          "base_uri": "https://localhost:8080/"
        }
      },
      "execution_count": 7,
      "outputs": [
        {
          "output_type": "stream",
          "name": "stdout",
          "text": [
            "Model Mediations Mediations in Mediations BC control and control and control and control and control and control and control provides sense of the state As production in the context of the context of the context of the 201 Port is Poplema biometrics. den ign Ma [] 11.0 .. For New management manual and LONGENERING Selection in Fren Peri A: MoDel Islanding the properies for your lawford 1.155 LOOK OUTCOME AN THE RELATION AN IN services of control ONTOLD HISTORIC well-sidenthesis 21 In 1999, p. 111. LANGUARY A MONTH PROFESSION CONTROLLED HERE AN ARTICLES 21 :44 AAA AND AN .. ENTROLLED 10–01, 2002; March 2002; March 2002; IN MURDER IN DEGO-3 emod 1. In 1999, p. 11.\n"
          ]
        }
      ]
    },
    {
      "cell_type": "code",
      "source": [
        "# Assuming `predictions` is your OCR predictions list\n",
        "extracted_text = []\n",
        "\n",
        "for result in predictions:\n",
        "    for text_line in result.text_lines:\n",
        "        extracted_text.append(text_line.text)\n",
        "\n",
        "# Join the extracted text lines into a single string\n",
        "extracted_text_string = ' '.join(extracted_text)\n",
        "\n",
        "# Split the text into lines based on '.', ',' or other punctuation marks\n",
        "lines = []\n",
        "current_line = []\n",
        "\n",
        "for char in extracted_text_string:\n",
        "    if char in ['.', ',']:  # Split at '.' or ','\n",
        "        lines.append(''.join(current_line).strip())  # Join current line and append to lines\n",
        "        current_line = []  # Reset current line\n",
        "    else:\n",
        "        current_line.append(char)\n",
        "\n",
        "# Append the last line\n",
        "if current_line:\n",
        "    lines.append(''.join(current_line).strip())\n",
        "\n",
        "# Print each line on a new line\n",
        "for line in lines:\n",
        "    print(line)\n"
      ],
      "metadata": {
        "id": "-LI1TZNPZADb",
        "outputId": "5a0067de-e558-4d7f-8c89-925eb7756f03",
        "colab": {
          "base_uri": "https://localhost:8080/"
        }
      },
      "execution_count": 6,
      "outputs": [
        {
          "output_type": "stream",
          "name": "stdout",
          "text": [
            "Model Mediations Mediations in Mediations BC control and control and control and control and control and control and control provides sense of the state As production in the context of the context of the context of the 201 Port is Poplema biometrics\n",
            "den ign Ma [] 11\n",
            "0\n",
            "\n",
            "For New management manual and LONGENERING Selection in Fren Peri A: MoDel Islanding the properies for your lawford 1\n",
            "155 LOOK OUTCOME AN THE RELATION AN IN services of control ONTOLD HISTORIC well-sidenthesis 21 In 1999\n",
            "p\n",
            "111\n",
            "LANGUARY A MONTH PROFESSION CONTROLLED HERE AN ARTICLES 21 :44 AAA AND AN\n",
            "\n",
            "ENTROLLED 10–01\n",
            "2002; March 2002; March 2002; IN MURDER IN DEGO-3 emod 1\n",
            "In 1999\n",
            "p\n",
            "11\n"
          ]
        }
      ]
    },
    {
      "cell_type": "code",
      "source": [],
      "metadata": {
        "id": "fM2Ou0zlZpwj"
      },
      "execution_count": null,
      "outputs": []
    }
  ]
}