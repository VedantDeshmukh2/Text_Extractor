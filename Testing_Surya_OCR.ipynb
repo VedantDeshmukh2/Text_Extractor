{
  "nbformat": 4,
  "nbformat_minor": 0,
  "metadata": {
    "colab": {
      "provenance": [],
      "gpuType": "T4"
    },
    "kernelspec": {
      "name": "python3",
      "display_name": "Python 3"
    },
    "language_info": {
      "name": "python"
    },
    "accelerator": "GPU",
    "widgets": {
      "application/vnd.jupyter.widget-state+json": {
        "da44d53bb7994b78b986e9c73c4020c6": {
          "model_module": "@jupyter-widgets/controls",
          "model_name": "HBoxModel",
          "model_module_version": "1.5.0",
          "state": {
            "_dom_classes": [],
            "_model_module": "@jupyter-widgets/controls",
            "_model_module_version": "1.5.0",
            "_model_name": "HBoxModel",
            "_view_count": null,
            "_view_module": "@jupyter-widgets/controls",
            "_view_module_version": "1.5.0",
            "_view_name": "HBoxView",
            "box_style": "",
            "children": [
              "IPY_MODEL_ee3e5b431fbd4e6da357df8a1bed9a6b",
              "IPY_MODEL_528294be52b04ac5a172c266c8374b96",
              "IPY_MODEL_7044b67a6918488ba66d48a1319f552a"
            ],
            "layout": "IPY_MODEL_615bc1d54b594ba4b313bc08a314873f"
          }
        },
        "ee3e5b431fbd4e6da357df8a1bed9a6b": {
          "model_module": "@jupyter-widgets/controls",
          "model_name": "HTMLModel",
          "model_module_version": "1.5.0",
          "state": {
            "_dom_classes": [],
            "_model_module": "@jupyter-widgets/controls",
            "_model_module_version": "1.5.0",
            "_model_name": "HTMLModel",
            "_view_count": null,
            "_view_module": "@jupyter-widgets/controls",
            "_view_module_version": "1.5.0",
            "_view_name": "HTMLView",
            "description": "",
            "description_tooltip": null,
            "layout": "IPY_MODEL_dadf854c7c5e45abb3cf68cdcfcedd21",
            "placeholder": "​",
            "style": "IPY_MODEL_1eda53733c3a424fafd33c8ee3659179",
            "value": "config.json: 100%"
          }
        },
        "528294be52b04ac5a172c266c8374b96": {
          "model_module": "@jupyter-widgets/controls",
          "model_name": "FloatProgressModel",
          "model_module_version": "1.5.0",
          "state": {
            "_dom_classes": [],
            "_model_module": "@jupyter-widgets/controls",
            "_model_module_version": "1.5.0",
            "_model_name": "FloatProgressModel",
            "_view_count": null,
            "_view_module": "@jupyter-widgets/controls",
            "_view_module_version": "1.5.0",
            "_view_name": "ProgressView",
            "bar_style": "success",
            "description": "",
            "description_tooltip": null,
            "layout": "IPY_MODEL_35f918267739493185f7f9c5d7f7afbb",
            "max": 6912,
            "min": 0,
            "orientation": "horizontal",
            "style": "IPY_MODEL_8f2b2ba3f4774f83b534b3f679142c04",
            "value": 6912
          }
        },
        "7044b67a6918488ba66d48a1319f552a": {
          "model_module": "@jupyter-widgets/controls",
          "model_name": "HTMLModel",
          "model_module_version": "1.5.0",
          "state": {
            "_dom_classes": [],
            "_model_module": "@jupyter-widgets/controls",
            "_model_module_version": "1.5.0",
            "_model_name": "HTMLModel",
            "_view_count": null,
            "_view_module": "@jupyter-widgets/controls",
            "_view_module_version": "1.5.0",
            "_view_name": "HTMLView",
            "description": "",
            "description_tooltip": null,
            "layout": "IPY_MODEL_226c1b788f6248158cb4d598aa5c44d8",
            "placeholder": "​",
            "style": "IPY_MODEL_013e22980844453e8abd6536a44b7d40",
            "value": " 6.91k/6.91k [00:00&lt;00:00, 122kB/s]"
          }
        },
        "615bc1d54b594ba4b313bc08a314873f": {
          "model_module": "@jupyter-widgets/base",
          "model_name": "LayoutModel",
          "model_module_version": "1.2.0",
          "state": {
            "_model_module": "@jupyter-widgets/base",
            "_model_module_version": "1.2.0",
            "_model_name": "LayoutModel",
            "_view_count": null,
            "_view_module": "@jupyter-widgets/base",
            "_view_module_version": "1.2.0",
            "_view_name": "LayoutView",
            "align_content": null,
            "align_items": null,
            "align_self": null,
            "border": null,
            "bottom": null,
            "display": null,
            "flex": null,
            "flex_flow": null,
            "grid_area": null,
            "grid_auto_columns": null,
            "grid_auto_flow": null,
            "grid_auto_rows": null,
            "grid_column": null,
            "grid_gap": null,
            "grid_row": null,
            "grid_template_areas": null,
            "grid_template_columns": null,
            "grid_template_rows": null,
            "height": null,
            "justify_content": null,
            "justify_items": null,
            "left": null,
            "margin": null,
            "max_height": null,
            "max_width": null,
            "min_height": null,
            "min_width": null,
            "object_fit": null,
            "object_position": null,
            "order": null,
            "overflow": null,
            "overflow_x": null,
            "overflow_y": null,
            "padding": null,
            "right": null,
            "top": null,
            "visibility": null,
            "width": null
          }
        },
        "dadf854c7c5e45abb3cf68cdcfcedd21": {
          "model_module": "@jupyter-widgets/base",
          "model_name": "LayoutModel",
          "model_module_version": "1.2.0",
          "state": {
            "_model_module": "@jupyter-widgets/base",
            "_model_module_version": "1.2.0",
            "_model_name": "LayoutModel",
            "_view_count": null,
            "_view_module": "@jupyter-widgets/base",
            "_view_module_version": "1.2.0",
            "_view_name": "LayoutView",
            "align_content": null,
            "align_items": null,
            "align_self": null,
            "border": null,
            "bottom": null,
            "display": null,
            "flex": null,
            "flex_flow": null,
            "grid_area": null,
            "grid_auto_columns": null,
            "grid_auto_flow": null,
            "grid_auto_rows": null,
            "grid_column": null,
            "grid_gap": null,
            "grid_row": null,
            "grid_template_areas": null,
            "grid_template_columns": null,
            "grid_template_rows": null,
            "height": null,
            "justify_content": null,
            "justify_items": null,
            "left": null,
            "margin": null,
            "max_height": null,
            "max_width": null,
            "min_height": null,
            "min_width": null,
            "object_fit": null,
            "object_position": null,
            "order": null,
            "overflow": null,
            "overflow_x": null,
            "overflow_y": null,
            "padding": null,
            "right": null,
            "top": null,
            "visibility": null,
            "width": null
          }
        },
        "1eda53733c3a424fafd33c8ee3659179": {
          "model_module": "@jupyter-widgets/controls",
          "model_name": "DescriptionStyleModel",
          "model_module_version": "1.5.0",
          "state": {
            "_model_module": "@jupyter-widgets/controls",
            "_model_module_version": "1.5.0",
            "_model_name": "DescriptionStyleModel",
            "_view_count": null,
            "_view_module": "@jupyter-widgets/base",
            "_view_module_version": "1.2.0",
            "_view_name": "StyleView",
            "description_width": ""
          }
        },
        "35f918267739493185f7f9c5d7f7afbb": {
          "model_module": "@jupyter-widgets/base",
          "model_name": "LayoutModel",
          "model_module_version": "1.2.0",
          "state": {
            "_model_module": "@jupyter-widgets/base",
            "_model_module_version": "1.2.0",
            "_model_name": "LayoutModel",
            "_view_count": null,
            "_view_module": "@jupyter-widgets/base",
            "_view_module_version": "1.2.0",
            "_view_name": "LayoutView",
            "align_content": null,
            "align_items": null,
            "align_self": null,
            "border": null,
            "bottom": null,
            "display": null,
            "flex": null,
            "flex_flow": null,
            "grid_area": null,
            "grid_auto_columns": null,
            "grid_auto_flow": null,
            "grid_auto_rows": null,
            "grid_column": null,
            "grid_gap": null,
            "grid_row": null,
            "grid_template_areas": null,
            "grid_template_columns": null,
            "grid_template_rows": null,
            "height": null,
            "justify_content": null,
            "justify_items": null,
            "left": null,
            "margin": null,
            "max_height": null,
            "max_width": null,
            "min_height": null,
            "min_width": null,
            "object_fit": null,
            "object_position": null,
            "order": null,
            "overflow": null,
            "overflow_x": null,
            "overflow_y": null,
            "padding": null,
            "right": null,
            "top": null,
            "visibility": null,
            "width": null
          }
        },
        "8f2b2ba3f4774f83b534b3f679142c04": {
          "model_module": "@jupyter-widgets/controls",
          "model_name": "ProgressStyleModel",
          "model_module_version": "1.5.0",
          "state": {
            "_model_module": "@jupyter-widgets/controls",
            "_model_module_version": "1.5.0",
            "_model_name": "ProgressStyleModel",
            "_view_count": null,
            "_view_module": "@jupyter-widgets/base",
            "_view_module_version": "1.2.0",
            "_view_name": "StyleView",
            "bar_color": null,
            "description_width": ""
          }
        },
        "226c1b788f6248158cb4d598aa5c44d8": {
          "model_module": "@jupyter-widgets/base",
          "model_name": "LayoutModel",
          "model_module_version": "1.2.0",
          "state": {
            "_model_module": "@jupyter-widgets/base",
            "_model_module_version": "1.2.0",
            "_model_name": "LayoutModel",
            "_view_count": null,
            "_view_module": "@jupyter-widgets/base",
            "_view_module_version": "1.2.0",
            "_view_name": "LayoutView",
            "align_content": null,
            "align_items": null,
            "align_self": null,
            "border": null,
            "bottom": null,
            "display": null,
            "flex": null,
            "flex_flow": null,
            "grid_area": null,
            "grid_auto_columns": null,
            "grid_auto_flow": null,
            "grid_auto_rows": null,
            "grid_column": null,
            "grid_gap": null,
            "grid_row": null,
            "grid_template_areas": null,
            "grid_template_columns": null,
            "grid_template_rows": null,
            "height": null,
            "justify_content": null,
            "justify_items": null,
            "left": null,
            "margin": null,
            "max_height": null,
            "max_width": null,
            "min_height": null,
            "min_width": null,
            "object_fit": null,
            "object_position": null,
            "order": null,
            "overflow": null,
            "overflow_x": null,
            "overflow_y": null,
            "padding": null,
            "right": null,
            "top": null,
            "visibility": null,
            "width": null
          }
        },
        "013e22980844453e8abd6536a44b7d40": {
          "model_module": "@jupyter-widgets/controls",
          "model_name": "DescriptionStyleModel",
          "model_module_version": "1.5.0",
          "state": {
            "_model_module": "@jupyter-widgets/controls",
            "_model_module_version": "1.5.0",
            "_model_name": "DescriptionStyleModel",
            "_view_count": null,
            "_view_module": "@jupyter-widgets/base",
            "_view_module_version": "1.2.0",
            "_view_name": "StyleView",
            "description_width": ""
          }
        },
        "6fdbb78d8ec74379a2efc3cb797c819e": {
          "model_module": "@jupyter-widgets/controls",
          "model_name": "HBoxModel",
          "model_module_version": "1.5.0",
          "state": {
            "_dom_classes": [],
            "_model_module": "@jupyter-widgets/controls",
            "_model_module_version": "1.5.0",
            "_model_name": "HBoxModel",
            "_view_count": null,
            "_view_module": "@jupyter-widgets/controls",
            "_view_module_version": "1.5.0",
            "_view_name": "HBoxView",
            "box_style": "",
            "children": [
              "IPY_MODEL_5eee36cf971d4ab99f0c035bd595c40a",
              "IPY_MODEL_18b9534b12ca4d7cb922153c9badfe24",
              "IPY_MODEL_be7aaf883a4e4158a0b121c87aa558c3"
            ],
            "layout": "IPY_MODEL_9b8daa46713443bda63f3f0e47f05789"
          }
        },
        "5eee36cf971d4ab99f0c035bd595c40a": {
          "model_module": "@jupyter-widgets/controls",
          "model_name": "HTMLModel",
          "model_module_version": "1.5.0",
          "state": {
            "_dom_classes": [],
            "_model_module": "@jupyter-widgets/controls",
            "_model_module_version": "1.5.0",
            "_model_name": "HTMLModel",
            "_view_count": null,
            "_view_module": "@jupyter-widgets/controls",
            "_view_module_version": "1.5.0",
            "_view_name": "HTMLView",
            "description": "",
            "description_tooltip": null,
            "layout": "IPY_MODEL_77ca9424c50f4fa89531945b8d53384f",
            "placeholder": "​",
            "style": "IPY_MODEL_ca42c75110224dc0abeefc4dd7c079a5",
            "value": "model.safetensors: 100%"
          }
        },
        "18b9534b12ca4d7cb922153c9badfe24": {
          "model_module": "@jupyter-widgets/controls",
          "model_name": "FloatProgressModel",
          "model_module_version": "1.5.0",
          "state": {
            "_dom_classes": [],
            "_model_module": "@jupyter-widgets/controls",
            "_model_module_version": "1.5.0",
            "_model_name": "FloatProgressModel",
            "_view_count": null,
            "_view_module": "@jupyter-widgets/controls",
            "_view_module_version": "1.5.0",
            "_view_name": "ProgressView",
            "bar_style": "success",
            "description": "",
            "description_tooltip": null,
            "layout": "IPY_MODEL_d6ccc11190044239ae2cf9a9c974fa0d",
            "max": 1048833584,
            "min": 0,
            "orientation": "horizontal",
            "style": "IPY_MODEL_32e7fcb528884f89be559a22d60ef7c3",
            "value": 1048833584
          }
        },
        "be7aaf883a4e4158a0b121c87aa558c3": {
          "model_module": "@jupyter-widgets/controls",
          "model_name": "HTMLModel",
          "model_module_version": "1.5.0",
          "state": {
            "_dom_classes": [],
            "_model_module": "@jupyter-widgets/controls",
            "_model_module_version": "1.5.0",
            "_model_name": "HTMLModel",
            "_view_count": null,
            "_view_module": "@jupyter-widgets/controls",
            "_view_module_version": "1.5.0",
            "_view_name": "HTMLView",
            "description": "",
            "description_tooltip": null,
            "layout": "IPY_MODEL_884f44746d7b4ec1ad168847d2212b92",
            "placeholder": "​",
            "style": "IPY_MODEL_18f9fea92f274ce0b443a9382c91d075",
            "value": " 1.05G/1.05G [00:09&lt;00:00, 152MB/s]"
          }
        },
        "9b8daa46713443bda63f3f0e47f05789": {
          "model_module": "@jupyter-widgets/base",
          "model_name": "LayoutModel",
          "model_module_version": "1.2.0",
          "state": {
            "_model_module": "@jupyter-widgets/base",
            "_model_module_version": "1.2.0",
            "_model_name": "LayoutModel",
            "_view_count": null,
            "_view_module": "@jupyter-widgets/base",
            "_view_module_version": "1.2.0",
            "_view_name": "LayoutView",
            "align_content": null,
            "align_items": null,
            "align_self": null,
            "border": null,
            "bottom": null,
            "display": null,
            "flex": null,
            "flex_flow": null,
            "grid_area": null,
            "grid_auto_columns": null,
            "grid_auto_flow": null,
            "grid_auto_rows": null,
            "grid_column": null,
            "grid_gap": null,
            "grid_row": null,
            "grid_template_areas": null,
            "grid_template_columns": null,
            "grid_template_rows": null,
            "height": null,
            "justify_content": null,
            "justify_items": null,
            "left": null,
            "margin": null,
            "max_height": null,
            "max_width": null,
            "min_height": null,
            "min_width": null,
            "object_fit": null,
            "object_position": null,
            "order": null,
            "overflow": null,
            "overflow_x": null,
            "overflow_y": null,
            "padding": null,
            "right": null,
            "top": null,
            "visibility": null,
            "width": null
          }
        },
        "77ca9424c50f4fa89531945b8d53384f": {
          "model_module": "@jupyter-widgets/base",
          "model_name": "LayoutModel",
          "model_module_version": "1.2.0",
          "state": {
            "_model_module": "@jupyter-widgets/base",
            "_model_module_version": "1.2.0",
            "_model_name": "LayoutModel",
            "_view_count": null,
            "_view_module": "@jupyter-widgets/base",
            "_view_module_version": "1.2.0",
            "_view_name": "LayoutView",
            "align_content": null,
            "align_items": null,
            "align_self": null,
            "border": null,
            "bottom": null,
            "display": null,
            "flex": null,
            "flex_flow": null,
            "grid_area": null,
            "grid_auto_columns": null,
            "grid_auto_flow": null,
            "grid_auto_rows": null,
            "grid_column": null,
            "grid_gap": null,
            "grid_row": null,
            "grid_template_areas": null,
            "grid_template_columns": null,
            "grid_template_rows": null,
            "height": null,
            "justify_content": null,
            "justify_items": null,
            "left": null,
            "margin": null,
            "max_height": null,
            "max_width": null,
            "min_height": null,
            "min_width": null,
            "object_fit": null,
            "object_position": null,
            "order": null,
            "overflow": null,
            "overflow_x": null,
            "overflow_y": null,
            "padding": null,
            "right": null,
            "top": null,
            "visibility": null,
            "width": null
          }
        },
        "ca42c75110224dc0abeefc4dd7c079a5": {
          "model_module": "@jupyter-widgets/controls",
          "model_name": "DescriptionStyleModel",
          "model_module_version": "1.5.0",
          "state": {
            "_model_module": "@jupyter-widgets/controls",
            "_model_module_version": "1.5.0",
            "_model_name": "DescriptionStyleModel",
            "_view_count": null,
            "_view_module": "@jupyter-widgets/base",
            "_view_module_version": "1.2.0",
            "_view_name": "StyleView",
            "description_width": ""
          }
        },
        "d6ccc11190044239ae2cf9a9c974fa0d": {
          "model_module": "@jupyter-widgets/base",
          "model_name": "LayoutModel",
          "model_module_version": "1.2.0",
          "state": {
            "_model_module": "@jupyter-widgets/base",
            "_model_module_version": "1.2.0",
            "_model_name": "LayoutModel",
            "_view_count": null,
            "_view_module": "@jupyter-widgets/base",
            "_view_module_version": "1.2.0",
            "_view_name": "LayoutView",
            "align_content": null,
            "align_items": null,
            "align_self": null,
            "border": null,
            "bottom": null,
            "display": null,
            "flex": null,
            "flex_flow": null,
            "grid_area": null,
            "grid_auto_columns": null,
            "grid_auto_flow": null,
            "grid_auto_rows": null,
            "grid_column": null,
            "grid_gap": null,
            "grid_row": null,
            "grid_template_areas": null,
            "grid_template_columns": null,
            "grid_template_rows": null,
            "height": null,
            "justify_content": null,
            "justify_items": null,
            "left": null,
            "margin": null,
            "max_height": null,
            "max_width": null,
            "min_height": null,
            "min_width": null,
            "object_fit": null,
            "object_position": null,
            "order": null,
            "overflow": null,
            "overflow_x": null,
            "overflow_y": null,
            "padding": null,
            "right": null,
            "top": null,
            "visibility": null,
            "width": null
          }
        },
        "32e7fcb528884f89be559a22d60ef7c3": {
          "model_module": "@jupyter-widgets/controls",
          "model_name": "ProgressStyleModel",
          "model_module_version": "1.5.0",
          "state": {
            "_model_module": "@jupyter-widgets/controls",
            "_model_module_version": "1.5.0",
            "_model_name": "ProgressStyleModel",
            "_view_count": null,
            "_view_module": "@jupyter-widgets/base",
            "_view_module_version": "1.2.0",
            "_view_name": "StyleView",
            "bar_color": null,
            "description_width": ""
          }
        },
        "884f44746d7b4ec1ad168847d2212b92": {
          "model_module": "@jupyter-widgets/base",
          "model_name": "LayoutModel",
          "model_module_version": "1.2.0",
          "state": {
            "_model_module": "@jupyter-widgets/base",
            "_model_module_version": "1.2.0",
            "_model_name": "LayoutModel",
            "_view_count": null,
            "_view_module": "@jupyter-widgets/base",
            "_view_module_version": "1.2.0",
            "_view_name": "LayoutView",
            "align_content": null,
            "align_items": null,
            "align_self": null,
            "border": null,
            "bottom": null,
            "display": null,
            "flex": null,
            "flex_flow": null,
            "grid_area": null,
            "grid_auto_columns": null,
            "grid_auto_flow": null,
            "grid_auto_rows": null,
            "grid_column": null,
            "grid_gap": null,
            "grid_row": null,
            "grid_template_areas": null,
            "grid_template_columns": null,
            "grid_template_rows": null,
            "height": null,
            "justify_content": null,
            "justify_items": null,
            "left": null,
            "margin": null,
            "max_height": null,
            "max_width": null,
            "min_height": null,
            "min_width": null,
            "object_fit": null,
            "object_position": null,
            "order": null,
            "overflow": null,
            "overflow_x": null,
            "overflow_y": null,
            "padding": null,
            "right": null,
            "top": null,
            "visibility": null,
            "width": null
          }
        },
        "18f9fea92f274ce0b443a9382c91d075": {
          "model_module": "@jupyter-widgets/controls",
          "model_name": "DescriptionStyleModel",
          "model_module_version": "1.5.0",
          "state": {
            "_model_module": "@jupyter-widgets/controls",
            "_model_module_version": "1.5.0",
            "_model_name": "DescriptionStyleModel",
            "_view_count": null,
            "_view_module": "@jupyter-widgets/base",
            "_view_module_version": "1.2.0",
            "_view_name": "StyleView",
            "description_width": ""
          }
        },
        "0ca0d7a0dc65441ba983d80718ee29ed": {
          "model_module": "@jupyter-widgets/controls",
          "model_name": "HBoxModel",
          "model_module_version": "1.5.0",
          "state": {
            "_dom_classes": [],
            "_model_module": "@jupyter-widgets/controls",
            "_model_module_version": "1.5.0",
            "_model_name": "HBoxModel",
            "_view_count": null,
            "_view_module": "@jupyter-widgets/controls",
            "_view_module_version": "1.5.0",
            "_view_name": "HBoxView",
            "box_style": "",
            "children": [
              "IPY_MODEL_9e67ceca993f4bb4b39e57ff1c5c5b46",
              "IPY_MODEL_85df7738bac349618b6c1ffe029f2359",
              "IPY_MODEL_17c8d11a6439441b84a40a566f4d2813"
            ],
            "layout": "IPY_MODEL_fbd1048b6ead4fc5b03bd838cee475a6"
          }
        },
        "9e67ceca993f4bb4b39e57ff1c5c5b46": {
          "model_module": "@jupyter-widgets/controls",
          "model_name": "HTMLModel",
          "model_module_version": "1.5.0",
          "state": {
            "_dom_classes": [],
            "_model_module": "@jupyter-widgets/controls",
            "_model_module_version": "1.5.0",
            "_model_name": "HTMLModel",
            "_view_count": null,
            "_view_module": "@jupyter-widgets/controls",
            "_view_module_version": "1.5.0",
            "_view_name": "HTMLView",
            "description": "",
            "description_tooltip": null,
            "layout": "IPY_MODEL_26ad2d2001694c3495e0519ca30dae0d",
            "placeholder": "​",
            "style": "IPY_MODEL_cc7306550c9f49caa05408ca2db81469",
            "value": "generation_config.json: 100%"
          }
        },
        "85df7738bac349618b6c1ffe029f2359": {
          "model_module": "@jupyter-widgets/controls",
          "model_name": "FloatProgressModel",
          "model_module_version": "1.5.0",
          "state": {
            "_dom_classes": [],
            "_model_module": "@jupyter-widgets/controls",
            "_model_module_version": "1.5.0",
            "_model_name": "FloatProgressModel",
            "_view_count": null,
            "_view_module": "@jupyter-widgets/controls",
            "_view_module_version": "1.5.0",
            "_view_name": "ProgressView",
            "bar_style": "success",
            "description": "",
            "description_tooltip": null,
            "layout": "IPY_MODEL_fea65faf977542298ffe1e902ffa115f",
            "max": 181,
            "min": 0,
            "orientation": "horizontal",
            "style": "IPY_MODEL_884b2b1a3a70460ca5f7b67d149ab677",
            "value": 181
          }
        },
        "17c8d11a6439441b84a40a566f4d2813": {
          "model_module": "@jupyter-widgets/controls",
          "model_name": "HTMLModel",
          "model_module_version": "1.5.0",
          "state": {
            "_dom_classes": [],
            "_model_module": "@jupyter-widgets/controls",
            "_model_module_version": "1.5.0",
            "_model_name": "HTMLModel",
            "_view_count": null,
            "_view_module": "@jupyter-widgets/controls",
            "_view_module_version": "1.5.0",
            "_view_name": "HTMLView",
            "description": "",
            "description_tooltip": null,
            "layout": "IPY_MODEL_d45be6046d3a42d1b5f384608a961e94",
            "placeholder": "​",
            "style": "IPY_MODEL_001341424b0645e9b797032a27b433db",
            "value": " 181/181 [00:00&lt;00:00, 13.5kB/s]"
          }
        },
        "fbd1048b6ead4fc5b03bd838cee475a6": {
          "model_module": "@jupyter-widgets/base",
          "model_name": "LayoutModel",
          "model_module_version": "1.2.0",
          "state": {
            "_model_module": "@jupyter-widgets/base",
            "_model_module_version": "1.2.0",
            "_model_name": "LayoutModel",
            "_view_count": null,
            "_view_module": "@jupyter-widgets/base",
            "_view_module_version": "1.2.0",
            "_view_name": "LayoutView",
            "align_content": null,
            "align_items": null,
            "align_self": null,
            "border": null,
            "bottom": null,
            "display": null,
            "flex": null,
            "flex_flow": null,
            "grid_area": null,
            "grid_auto_columns": null,
            "grid_auto_flow": null,
            "grid_auto_rows": null,
            "grid_column": null,
            "grid_gap": null,
            "grid_row": null,
            "grid_template_areas": null,
            "grid_template_columns": null,
            "grid_template_rows": null,
            "height": null,
            "justify_content": null,
            "justify_items": null,
            "left": null,
            "margin": null,
            "max_height": null,
            "max_width": null,
            "min_height": null,
            "min_width": null,
            "object_fit": null,
            "object_position": null,
            "order": null,
            "overflow": null,
            "overflow_x": null,
            "overflow_y": null,
            "padding": null,
            "right": null,
            "top": null,
            "visibility": null,
            "width": null
          }
        },
        "26ad2d2001694c3495e0519ca30dae0d": {
          "model_module": "@jupyter-widgets/base",
          "model_name": "LayoutModel",
          "model_module_version": "1.2.0",
          "state": {
            "_model_module": "@jupyter-widgets/base",
            "_model_module_version": "1.2.0",
            "_model_name": "LayoutModel",
            "_view_count": null,
            "_view_module": "@jupyter-widgets/base",
            "_view_module_version": "1.2.0",
            "_view_name": "LayoutView",
            "align_content": null,
            "align_items": null,
            "align_self": null,
            "border": null,
            "bottom": null,
            "display": null,
            "flex": null,
            "flex_flow": null,
            "grid_area": null,
            "grid_auto_columns": null,
            "grid_auto_flow": null,
            "grid_auto_rows": null,
            "grid_column": null,
            "grid_gap": null,
            "grid_row": null,
            "grid_template_areas": null,
            "grid_template_columns": null,
            "grid_template_rows": null,
            "height": null,
            "justify_content": null,
            "justify_items": null,
            "left": null,
            "margin": null,
            "max_height": null,
            "max_width": null,
            "min_height": null,
            "min_width": null,
            "object_fit": null,
            "object_position": null,
            "order": null,
            "overflow": null,
            "overflow_x": null,
            "overflow_y": null,
            "padding": null,
            "right": null,
            "top": null,
            "visibility": null,
            "width": null
          }
        },
        "cc7306550c9f49caa05408ca2db81469": {
          "model_module": "@jupyter-widgets/controls",
          "model_name": "DescriptionStyleModel",
          "model_module_version": "1.5.0",
          "state": {
            "_model_module": "@jupyter-widgets/controls",
            "_model_module_version": "1.5.0",
            "_model_name": "DescriptionStyleModel",
            "_view_count": null,
            "_view_module": "@jupyter-widgets/base",
            "_view_module_version": "1.2.0",
            "_view_name": "StyleView",
            "description_width": ""
          }
        },
        "fea65faf977542298ffe1e902ffa115f": {
          "model_module": "@jupyter-widgets/base",
          "model_name": "LayoutModel",
          "model_module_version": "1.2.0",
          "state": {
            "_model_module": "@jupyter-widgets/base",
            "_model_module_version": "1.2.0",
            "_model_name": "LayoutModel",
            "_view_count": null,
            "_view_module": "@jupyter-widgets/base",
            "_view_module_version": "1.2.0",
            "_view_name": "LayoutView",
            "align_content": null,
            "align_items": null,
            "align_self": null,
            "border": null,
            "bottom": null,
            "display": null,
            "flex": null,
            "flex_flow": null,
            "grid_area": null,
            "grid_auto_columns": null,
            "grid_auto_flow": null,
            "grid_auto_rows": null,
            "grid_column": null,
            "grid_gap": null,
            "grid_row": null,
            "grid_template_areas": null,
            "grid_template_columns": null,
            "grid_template_rows": null,
            "height": null,
            "justify_content": null,
            "justify_items": null,
            "left": null,
            "margin": null,
            "max_height": null,
            "max_width": null,
            "min_height": null,
            "min_width": null,
            "object_fit": null,
            "object_position": null,
            "order": null,
            "overflow": null,
            "overflow_x": null,
            "overflow_y": null,
            "padding": null,
            "right": null,
            "top": null,
            "visibility": null,
            "width": null
          }
        },
        "884b2b1a3a70460ca5f7b67d149ab677": {
          "model_module": "@jupyter-widgets/controls",
          "model_name": "ProgressStyleModel",
          "model_module_version": "1.5.0",
          "state": {
            "_model_module": "@jupyter-widgets/controls",
            "_model_module_version": "1.5.0",
            "_model_name": "ProgressStyleModel",
            "_view_count": null,
            "_view_module": "@jupyter-widgets/base",
            "_view_module_version": "1.2.0",
            "_view_name": "StyleView",
            "bar_color": null,
            "description_width": ""
          }
        },
        "d45be6046d3a42d1b5f384608a961e94": {
          "model_module": "@jupyter-widgets/base",
          "model_name": "LayoutModel",
          "model_module_version": "1.2.0",
          "state": {
            "_model_module": "@jupyter-widgets/base",
            "_model_module_version": "1.2.0",
            "_model_name": "LayoutModel",
            "_view_count": null,
            "_view_module": "@jupyter-widgets/base",
            "_view_module_version": "1.2.0",
            "_view_name": "LayoutView",
            "align_content": null,
            "align_items": null,
            "align_self": null,
            "border": null,
            "bottom": null,
            "display": null,
            "flex": null,
            "flex_flow": null,
            "grid_area": null,
            "grid_auto_columns": null,
            "grid_auto_flow": null,
            "grid_auto_rows": null,
            "grid_column": null,
            "grid_gap": null,
            "grid_row": null,
            "grid_template_areas": null,
            "grid_template_columns": null,
            "grid_template_rows": null,
            "height": null,
            "justify_content": null,
            "justify_items": null,
            "left": null,
            "margin": null,
            "max_height": null,
            "max_width": null,
            "min_height": null,
            "min_width": null,
            "object_fit": null,
            "object_position": null,
            "order": null,
            "overflow": null,
            "overflow_x": null,
            "overflow_y": null,
            "padding": null,
            "right": null,
            "top": null,
            "visibility": null,
            "width": null
          }
        },
        "001341424b0645e9b797032a27b433db": {
          "model_module": "@jupyter-widgets/controls",
          "model_name": "DescriptionStyleModel",
          "model_module_version": "1.5.0",
          "state": {
            "_model_module": "@jupyter-widgets/controls",
            "_model_module_version": "1.5.0",
            "_model_name": "DescriptionStyleModel",
            "_view_count": null,
            "_view_module": "@jupyter-widgets/base",
            "_view_module_version": "1.2.0",
            "_view_name": "StyleView",
            "description_width": ""
          }
        },
        "75ef6047294b4b4682db2dd563650bbe": {
          "model_module": "@jupyter-widgets/controls",
          "model_name": "HBoxModel",
          "model_module_version": "1.5.0",
          "state": {
            "_dom_classes": [],
            "_model_module": "@jupyter-widgets/controls",
            "_model_module_version": "1.5.0",
            "_model_name": "HBoxModel",
            "_view_count": null,
            "_view_module": "@jupyter-widgets/controls",
            "_view_module_version": "1.5.0",
            "_view_name": "HBoxView",
            "box_style": "",
            "children": [
              "IPY_MODEL_3a364c49e0914e7f9e155cf7679a3f39",
              "IPY_MODEL_35cd0a2f34994e379f743b9709abd0a6",
              "IPY_MODEL_73904c15890b4c0bba97227311006c24"
            ],
            "layout": "IPY_MODEL_2581517ecd804e64b1b39b777a860752"
          }
        },
        "3a364c49e0914e7f9e155cf7679a3f39": {
          "model_module": "@jupyter-widgets/controls",
          "model_name": "HTMLModel",
          "model_module_version": "1.5.0",
          "state": {
            "_dom_classes": [],
            "_model_module": "@jupyter-widgets/controls",
            "_model_module_version": "1.5.0",
            "_model_name": "HTMLModel",
            "_view_count": null,
            "_view_module": "@jupyter-widgets/controls",
            "_view_module_version": "1.5.0",
            "_view_name": "HTMLView",
            "description": "",
            "description_tooltip": null,
            "layout": "IPY_MODEL_aef9edee3060406caa41b6f8a94e7c60",
            "placeholder": "​",
            "style": "IPY_MODEL_b8af2af2a2ff45cea80d45baeba0ee10",
            "value": "preprocessor_config.json: 100%"
          }
        },
        "35cd0a2f34994e379f743b9709abd0a6": {
          "model_module": "@jupyter-widgets/controls",
          "model_name": "FloatProgressModel",
          "model_module_version": "1.5.0",
          "state": {
            "_dom_classes": [],
            "_model_module": "@jupyter-widgets/controls",
            "_model_module_version": "1.5.0",
            "_model_name": "FloatProgressModel",
            "_view_count": null,
            "_view_module": "@jupyter-widgets/controls",
            "_view_module_version": "1.5.0",
            "_view_name": "ProgressView",
            "bar_style": "success",
            "description": "",
            "description_tooltip": null,
            "layout": "IPY_MODEL_31ea12a82f4b47079774458612f4d54f",
            "max": 608,
            "min": 0,
            "orientation": "horizontal",
            "style": "IPY_MODEL_b802b8afe41343a385965e12655b5644",
            "value": 608
          }
        },
        "73904c15890b4c0bba97227311006c24": {
          "model_module": "@jupyter-widgets/controls",
          "model_name": "HTMLModel",
          "model_module_version": "1.5.0",
          "state": {
            "_dom_classes": [],
            "_model_module": "@jupyter-widgets/controls",
            "_model_module_version": "1.5.0",
            "_model_name": "HTMLModel",
            "_view_count": null,
            "_view_module": "@jupyter-widgets/controls",
            "_view_module_version": "1.5.0",
            "_view_name": "HTMLView",
            "description": "",
            "description_tooltip": null,
            "layout": "IPY_MODEL_f98560fe7f8b4a6c9819b77cdb2a347a",
            "placeholder": "​",
            "style": "IPY_MODEL_06294deffb44402481c49d540eefd5a0",
            "value": " 608/608 [00:00&lt;00:00, 36.6kB/s]"
          }
        },
        "2581517ecd804e64b1b39b777a860752": {
          "model_module": "@jupyter-widgets/base",
          "model_name": "LayoutModel",
          "model_module_version": "1.2.0",
          "state": {
            "_model_module": "@jupyter-widgets/base",
            "_model_module_version": "1.2.0",
            "_model_name": "LayoutModel",
            "_view_count": null,
            "_view_module": "@jupyter-widgets/base",
            "_view_module_version": "1.2.0",
            "_view_name": "LayoutView",
            "align_content": null,
            "align_items": null,
            "align_self": null,
            "border": null,
            "bottom": null,
            "display": null,
            "flex": null,
            "flex_flow": null,
            "grid_area": null,
            "grid_auto_columns": null,
            "grid_auto_flow": null,
            "grid_auto_rows": null,
            "grid_column": null,
            "grid_gap": null,
            "grid_row": null,
            "grid_template_areas": null,
            "grid_template_columns": null,
            "grid_template_rows": null,
            "height": null,
            "justify_content": null,
            "justify_items": null,
            "left": null,
            "margin": null,
            "max_height": null,
            "max_width": null,
            "min_height": null,
            "min_width": null,
            "object_fit": null,
            "object_position": null,
            "order": null,
            "overflow": null,
            "overflow_x": null,
            "overflow_y": null,
            "padding": null,
            "right": null,
            "top": null,
            "visibility": null,
            "width": null
          }
        },
        "aef9edee3060406caa41b6f8a94e7c60": {
          "model_module": "@jupyter-widgets/base",
          "model_name": "LayoutModel",
          "model_module_version": "1.2.0",
          "state": {
            "_model_module": "@jupyter-widgets/base",
            "_model_module_version": "1.2.0",
            "_model_name": "LayoutModel",
            "_view_count": null,
            "_view_module": "@jupyter-widgets/base",
            "_view_module_version": "1.2.0",
            "_view_name": "LayoutView",
            "align_content": null,
            "align_items": null,
            "align_self": null,
            "border": null,
            "bottom": null,
            "display": null,
            "flex": null,
            "flex_flow": null,
            "grid_area": null,
            "grid_auto_columns": null,
            "grid_auto_flow": null,
            "grid_auto_rows": null,
            "grid_column": null,
            "grid_gap": null,
            "grid_row": null,
            "grid_template_areas": null,
            "grid_template_columns": null,
            "grid_template_rows": null,
            "height": null,
            "justify_content": null,
            "justify_items": null,
            "left": null,
            "margin": null,
            "max_height": null,
            "max_width": null,
            "min_height": null,
            "min_width": null,
            "object_fit": null,
            "object_position": null,
            "order": null,
            "overflow": null,
            "overflow_x": null,
            "overflow_y": null,
            "padding": null,
            "right": null,
            "top": null,
            "visibility": null,
            "width": null
          }
        },
        "b8af2af2a2ff45cea80d45baeba0ee10": {
          "model_module": "@jupyter-widgets/controls",
          "model_name": "DescriptionStyleModel",
          "model_module_version": "1.5.0",
          "state": {
            "_model_module": "@jupyter-widgets/controls",
            "_model_module_version": "1.5.0",
            "_model_name": "DescriptionStyleModel",
            "_view_count": null,
            "_view_module": "@jupyter-widgets/base",
            "_view_module_version": "1.2.0",
            "_view_name": "StyleView",
            "description_width": ""
          }
        },
        "31ea12a82f4b47079774458612f4d54f": {
          "model_module": "@jupyter-widgets/base",
          "model_name": "LayoutModel",
          "model_module_version": "1.2.0",
          "state": {
            "_model_module": "@jupyter-widgets/base",
            "_model_module_version": "1.2.0",
            "_model_name": "LayoutModel",
            "_view_count": null,
            "_view_module": "@jupyter-widgets/base",
            "_view_module_version": "1.2.0",
            "_view_name": "LayoutView",
            "align_content": null,
            "align_items": null,
            "align_self": null,
            "border": null,
            "bottom": null,
            "display": null,
            "flex": null,
            "flex_flow": null,
            "grid_area": null,
            "grid_auto_columns": null,
            "grid_auto_flow": null,
            "grid_auto_rows": null,
            "grid_column": null,
            "grid_gap": null,
            "grid_row": null,
            "grid_template_areas": null,
            "grid_template_columns": null,
            "grid_template_rows": null,
            "height": null,
            "justify_content": null,
            "justify_items": null,
            "left": null,
            "margin": null,
            "max_height": null,
            "max_width": null,
            "min_height": null,
            "min_width": null,
            "object_fit": null,
            "object_position": null,
            "order": null,
            "overflow": null,
            "overflow_x": null,
            "overflow_y": null,
            "padding": null,
            "right": null,
            "top": null,
            "visibility": null,
            "width": null
          }
        },
        "b802b8afe41343a385965e12655b5644": {
          "model_module": "@jupyter-widgets/controls",
          "model_name": "ProgressStyleModel",
          "model_module_version": "1.5.0",
          "state": {
            "_model_module": "@jupyter-widgets/controls",
            "_model_module_version": "1.5.0",
            "_model_name": "ProgressStyleModel",
            "_view_count": null,
            "_view_module": "@jupyter-widgets/base",
            "_view_module_version": "1.2.0",
            "_view_name": "StyleView",
            "bar_color": null,
            "description_width": ""
          }
        },
        "f98560fe7f8b4a6c9819b77cdb2a347a": {
          "model_module": "@jupyter-widgets/base",
          "model_name": "LayoutModel",
          "model_module_version": "1.2.0",
          "state": {
            "_model_module": "@jupyter-widgets/base",
            "_model_module_version": "1.2.0",
            "_model_name": "LayoutModel",
            "_view_count": null,
            "_view_module": "@jupyter-widgets/base",
            "_view_module_version": "1.2.0",
            "_view_name": "LayoutView",
            "align_content": null,
            "align_items": null,
            "align_self": null,
            "border": null,
            "bottom": null,
            "display": null,
            "flex": null,
            "flex_flow": null,
            "grid_area": null,
            "grid_auto_columns": null,
            "grid_auto_flow": null,
            "grid_auto_rows": null,
            "grid_column": null,
            "grid_gap": null,
            "grid_row": null,
            "grid_template_areas": null,
            "grid_template_columns": null,
            "grid_template_rows": null,
            "height": null,
            "justify_content": null,
            "justify_items": null,
            "left": null,
            "margin": null,
            "max_height": null,
            "max_width": null,
            "min_height": null,
            "min_width": null,
            "object_fit": null,
            "object_position": null,
            "order": null,
            "overflow": null,
            "overflow_x": null,
            "overflow_y": null,
            "padding": null,
            "right": null,
            "top": null,
            "visibility": null,
            "width": null
          }
        },
        "06294deffb44402481c49d540eefd5a0": {
          "model_module": "@jupyter-widgets/controls",
          "model_name": "DescriptionStyleModel",
          "model_module_version": "1.5.0",
          "state": {
            "_model_module": "@jupyter-widgets/controls",
            "_model_module_version": "1.5.0",
            "_model_name": "DescriptionStyleModel",
            "_view_count": null,
            "_view_module": "@jupyter-widgets/base",
            "_view_module_version": "1.2.0",
            "_view_name": "StyleView",
            "description_width": ""
          }
        }
      }
    }
  },
  "cells": [
    {
      "cell_type": "code",
      "execution_count": 1,
      "metadata": {
        "colab": {
          "base_uri": "https://localhost:8080/"
        },
        "id": "dGtHOrCa7Y_h",
        "outputId": "31d04252-72be-4a78-c6fe-2159ddff3d6e"
      },
      "outputs": [
        {
          "output_type": "stream",
          "name": "stdout",
          "text": [
            "Requirement already satisfied: surya-ocr in /usr/local/lib/python3.10/dist-packages (0.4.0)\n",
            "Requirement already satisfied: filetype<2.0.0,>=1.2.0 in /usr/local/lib/python3.10/dist-packages (from surya-ocr) (1.2.0)\n",
            "Requirement already satisfied: ftfy<7.0.0,>=6.1.3 in /usr/local/lib/python3.10/dist-packages (from surya-ocr) (6.2.0)\n",
            "Requirement already satisfied: opencv-python<5.0.0.0,>=4.9.0.80 in /usr/local/lib/python3.10/dist-packages (from surya-ocr) (4.9.0.80)\n",
            "Requirement already satisfied: pillow<11.0.0,>=10.2.0 in /usr/local/lib/python3.10/dist-packages (from surya-ocr) (10.3.0)\n",
            "Requirement already satisfied: pydantic<3.0.0,>=2.5.3 in /usr/local/lib/python3.10/dist-packages (from surya-ocr) (2.7.1)\n",
            "Requirement already satisfied: pydantic-settings<3.0.0,>=2.1.0 in /usr/local/lib/python3.10/dist-packages (from surya-ocr) (2.2.1)\n",
            "Requirement already satisfied: pypdfium2<5.0.0,>=4.25.0 in /usr/local/lib/python3.10/dist-packages (from surya-ocr) (4.29.0)\n",
            "Requirement already satisfied: python-dotenv<2.0.0,>=1.0.0 in /usr/local/lib/python3.10/dist-packages (from surya-ocr) (1.0.1)\n",
            "Requirement already satisfied: tabulate<0.10.0,>=0.9.0 in /usr/local/lib/python3.10/dist-packages (from surya-ocr) (0.9.0)\n",
            "Requirement already satisfied: transformers==4.36.2 in /usr/local/lib/python3.10/dist-packages (from surya-ocr) (4.36.2)\n",
            "Requirement already satisfied: filelock in /usr/local/lib/python3.10/dist-packages (from transformers==4.36.2->surya-ocr) (3.14.0)\n",
            "Requirement already satisfied: huggingface-hub<1.0,>=0.19.3 in /usr/local/lib/python3.10/dist-packages (from transformers==4.36.2->surya-ocr) (0.20.3)\n",
            "Requirement already satisfied: numpy>=1.17 in /usr/local/lib/python3.10/dist-packages (from transformers==4.36.2->surya-ocr) (1.25.2)\n",
            "Requirement already satisfied: packaging>=20.0 in /usr/local/lib/python3.10/dist-packages (from transformers==4.36.2->surya-ocr) (24.0)\n",
            "Requirement already satisfied: pyyaml>=5.1 in /usr/local/lib/python3.10/dist-packages (from transformers==4.36.2->surya-ocr) (6.0.1)\n",
            "Requirement already satisfied: regex!=2019.12.17 in /usr/local/lib/python3.10/dist-packages (from transformers==4.36.2->surya-ocr) (2023.12.25)\n",
            "Requirement already satisfied: requests in /usr/local/lib/python3.10/dist-packages (from transformers==4.36.2->surya-ocr) (2.31.0)\n",
            "Requirement already satisfied: tokenizers<0.19,>=0.14 in /usr/local/lib/python3.10/dist-packages (from transformers==4.36.2->surya-ocr) (0.15.2)\n",
            "Requirement already satisfied: safetensors>=0.3.1 in /usr/local/lib/python3.10/dist-packages (from transformers==4.36.2->surya-ocr) (0.4.3)\n",
            "Requirement already satisfied: tqdm>=4.27 in /usr/local/lib/python3.10/dist-packages (from transformers==4.36.2->surya-ocr) (4.66.4)\n",
            "Requirement already satisfied: wcwidth<0.3.0,>=0.2.12 in /usr/local/lib/python3.10/dist-packages (from ftfy<7.0.0,>=6.1.3->surya-ocr) (0.2.13)\n",
            "Requirement already satisfied: annotated-types>=0.4.0 in /usr/local/lib/python3.10/dist-packages (from pydantic<3.0.0,>=2.5.3->surya-ocr) (0.6.0)\n",
            "Requirement already satisfied: pydantic-core==2.18.2 in /usr/local/lib/python3.10/dist-packages (from pydantic<3.0.0,>=2.5.3->surya-ocr) (2.18.2)\n",
            "Requirement already satisfied: typing-extensions>=4.6.1 in /usr/local/lib/python3.10/dist-packages (from pydantic<3.0.0,>=2.5.3->surya-ocr) (4.11.0)\n",
            "Requirement already satisfied: fsspec>=2023.5.0 in /usr/local/lib/python3.10/dist-packages (from huggingface-hub<1.0,>=0.19.3->transformers==4.36.2->surya-ocr) (2023.6.0)\n",
            "Requirement already satisfied: charset-normalizer<4,>=2 in /usr/local/lib/python3.10/dist-packages (from requests->transformers==4.36.2->surya-ocr) (3.3.2)\n",
            "Requirement already satisfied: idna<4,>=2.5 in /usr/local/lib/python3.10/dist-packages (from requests->transformers==4.36.2->surya-ocr) (3.7)\n",
            "Requirement already satisfied: urllib3<3,>=1.21.1 in /usr/local/lib/python3.10/dist-packages (from requests->transformers==4.36.2->surya-ocr) (2.0.7)\n",
            "Requirement already satisfied: certifi>=2017.4.17 in /usr/local/lib/python3.10/dist-packages (from requests->transformers==4.36.2->surya-ocr) (2024.2.2)\n"
          ]
        }
      ],
      "source": [
        "!pip install surya-ocr"
      ]
    },
    {
      "cell_type": "code",
      "source": [
        "!wget https://3.imimg.com/data3/YL/VW/MY-14706987/times-of-india.jpg"
      ],
      "metadata": {
        "colab": {
          "base_uri": "https://localhost:8080/"
        },
        "id": "kxFClmcM8dsB",
        "outputId": "06f34be7-47d3-4af6-ac4b-a7139b212026"
      },
      "execution_count": null,
      "outputs": [
        {
          "output_type": "stream",
          "name": "stdout",
          "text": [
            "--2024-01-14 17:12:24--  https://3.imimg.com/data3/YL/VW/MY-14706987/times-of-india.jpg\n",
            "Resolving 3.imimg.com (3.imimg.com)... 18.160.46.119, 18.160.46.53, 18.160.46.11, ...\n",
            "Connecting to 3.imimg.com (3.imimg.com)|18.160.46.119|:443... connected.\n",
            "HTTP request sent, awaiting response... 200 OK\n",
            "Length: unspecified [image/jpeg]\n",
            "Saving to: ‘times-of-india.jpg’\n",
            "\n",
            "times-of-india.jpg      [   <=>              ] 265.65K   355KB/s    in 0.7s    \n",
            "\n",
            "2024-01-14 17:12:26 (355 KB/s) - ‘times-of-india.jpg’ saved [272030]\n",
            "\n"
          ]
        }
      ]
    },
    {
      "cell_type": "code",
      "source": [
        "!surya_detect /content/terminal.png --images"
      ],
      "metadata": {
        "colab": {
          "base_uri": "https://localhost:8080/"
        },
        "id": "nag7cyya9c-m",
        "outputId": "4f6ce330-3523-483b-f3b4-7f23d8700d84"
      },
      "execution_count": 2,
      "outputs": [
        {
          "output_type": "stream",
          "name": "stdout",
          "text": [
            "2024-05-08 13:37:49.452783: E external/local_xla/xla/stream_executor/cuda/cuda_dnn.cc:9261] Unable to register cuDNN factory: Attempting to register factory for plugin cuDNN when one has already been registered\n",
            "2024-05-08 13:37:49.452844: E external/local_xla/xla/stream_executor/cuda/cuda_fft.cc:607] Unable to register cuFFT factory: Attempting to register factory for plugin cuFFT when one has already been registered\n",
            "2024-05-08 13:37:49.454663: E external/local_xla/xla/stream_executor/cuda/cuda_blas.cc:1515] Unable to register cuBLAS factory: Attempting to register factory for plugin cuBLAS when one has already been registered\n",
            "2024-05-08 13:37:50.667753: W tensorflow/compiler/tf2tensorrt/utils/py_utils.cc:38] TF-TRT Warning: Could not find TensorRT\n",
            "config.json: 100% 1.18k/1.18k [00:00<00:00, 6.15MB/s]\n",
            "model.safetensors: 100% 120M/120M [00:00<00:00, 191MB/s]\n",
            "Loading detection model vikp/surya_det2 on device cuda with dtype torch.float16\n",
            "preprocessor_config.json: 100% 430/430 [00:00<00:00, 2.04MB/s]\n",
            "Detecting bboxes: 100% 1/1 [00:01<00:00,  1.54s/it]\n",
            "Wrote results to results/surya/terminal\n"
          ]
        }
      ]
    },
    {
      "cell_type": "code",
      "source": [
        "!wget https://www.newspaperkart.com/media/newsletter/The%20Times%20of%20India%20newspaper-1486577264.jpg"
      ],
      "metadata": {
        "colab": {
          "base_uri": "https://localhost:8080/"
        },
        "id": "K7N7wo0m9hBM",
        "outputId": "a70daae3-01e3-4d52-9c64-127c5984f274"
      },
      "execution_count": null,
      "outputs": [
        {
          "output_type": "stream",
          "name": "stdout",
          "text": [
            "--2024-01-14 17:28:13--  https://www.newspaperkart.com/media/newsletter/The%20Times%20of%20India%20newspaper-1486577264.jpg\n",
            "Resolving www.newspaperkart.com (www.newspaperkart.com)... 139.59.12.155\n",
            "Connecting to www.newspaperkart.com (www.newspaperkart.com)|139.59.12.155|:443... connected.\n",
            "HTTP request sent, awaiting response... 200 OK\n",
            "Length: 164130 (160K) [image/jpeg]\n",
            "Saving to: ‘The Times of India newspaper-1486577264.jpg’\n",
            "\n",
            "The Times of India  100%[===================>] 160.28K   210KB/s    in 0.8s    \n",
            "\n",
            "2024-01-14 17:28:15 (210 KB/s) - ‘The Times of India newspaper-1486577264.jpg’ saved [164130/164130]\n",
            "\n"
          ]
        }
      ]
    },
    {
      "cell_type": "code",
      "source": [
        "!surya_detect \"/content/The Times of India newspaper-1486577264.jpg\" --images"
      ],
      "metadata": {
        "colab": {
          "base_uri": "https://localhost:8080/"
        },
        "id": "ljYqfprKBEo2",
        "outputId": "d49e0152-9988-41fd-dbb2-ed13e8638e3e"
      },
      "execution_count": null,
      "outputs": [
        {
          "output_type": "stream",
          "name": "stdout",
          "text": [
            "2024-01-14 17:28:51.338375: E external/local_xla/xla/stream_executor/cuda/cuda_dnn.cc:9261] Unable to register cuDNN factory: Attempting to register factory for plugin cuDNN when one has already been registered\n",
            "2024-01-14 17:28:51.338444: E external/local_xla/xla/stream_executor/cuda/cuda_fft.cc:607] Unable to register cuFFT factory: Attempting to register factory for plugin cuFFT when one has already been registered\n",
            "2024-01-14 17:28:51.340352: E external/local_xla/xla/stream_executor/cuda/cuda_blas.cc:1515] Unable to register cuBLAS factory: Attempting to register factory for plugin cuBLAS when one has already been registered\n",
            "2024-01-14 17:28:53.045140: W tensorflow/compiler/tf2tensorrt/utils/py_utils.cc:38] TF-TRT Warning: Could not find TensorRT\n",
            "Wrote results to results/surya/The Times of India newspaper-1486577264\n"
          ]
        }
      ]
    },
    {
      "cell_type": "code",
      "source": [
        "from PIL import Image\n",
        "from surya.ocr import run_ocr\n",
        "from surya.model.detection import segformer\n",
        "from surya.model.recognition.model import load_model\n",
        "from surya.model.recognition.processor import load_processor\n",
        "image_path = \"/content/terminal.png\"  # Replace with your image or PDF path\n",
        "langs = [\"en\"]  # Specify the languages you want to detect text in\n",
        "\n",
        "det_processor, det_model = segformer.load_processor(), segformer.load_model()\n",
        "rec_model, rec_processor = load_model(), load_processor()\n"
      ],
      "metadata": {
        "id": "50f19kxVBNHG",
        "outputId": "631e4935-3387-438b-ef99-bdeee23add77",
        "colab": {
          "base_uri": "https://localhost:8080/",
          "height": 304,
          "referenced_widgets": [
            "da44d53bb7994b78b986e9c73c4020c6",
            "ee3e5b431fbd4e6da357df8a1bed9a6b",
            "528294be52b04ac5a172c266c8374b96",
            "7044b67a6918488ba66d48a1319f552a",
            "615bc1d54b594ba4b313bc08a314873f",
            "dadf854c7c5e45abb3cf68cdcfcedd21",
            "1eda53733c3a424fafd33c8ee3659179",
            "35f918267739493185f7f9c5d7f7afbb",
            "8f2b2ba3f4774f83b534b3f679142c04",
            "226c1b788f6248158cb4d598aa5c44d8",
            "013e22980844453e8abd6536a44b7d40",
            "6fdbb78d8ec74379a2efc3cb797c819e",
            "5eee36cf971d4ab99f0c035bd595c40a",
            "18b9534b12ca4d7cb922153c9badfe24",
            "be7aaf883a4e4158a0b121c87aa558c3",
            "9b8daa46713443bda63f3f0e47f05789",
            "77ca9424c50f4fa89531945b8d53384f",
            "ca42c75110224dc0abeefc4dd7c079a5",
            "d6ccc11190044239ae2cf9a9c974fa0d",
            "32e7fcb528884f89be559a22d60ef7c3",
            "884f44746d7b4ec1ad168847d2212b92",
            "18f9fea92f274ce0b443a9382c91d075",
            "0ca0d7a0dc65441ba983d80718ee29ed",
            "9e67ceca993f4bb4b39e57ff1c5c5b46",
            "85df7738bac349618b6c1ffe029f2359",
            "17c8d11a6439441b84a40a566f4d2813",
            "fbd1048b6ead4fc5b03bd838cee475a6",
            "26ad2d2001694c3495e0519ca30dae0d",
            "cc7306550c9f49caa05408ca2db81469",
            "fea65faf977542298ffe1e902ffa115f",
            "884b2b1a3a70460ca5f7b67d149ab677",
            "d45be6046d3a42d1b5f384608a961e94",
            "001341424b0645e9b797032a27b433db",
            "75ef6047294b4b4682db2dd563650bbe",
            "3a364c49e0914e7f9e155cf7679a3f39",
            "35cd0a2f34994e379f743b9709abd0a6",
            "73904c15890b4c0bba97227311006c24",
            "2581517ecd804e64b1b39b777a860752",
            "aef9edee3060406caa41b6f8a94e7c60",
            "b8af2af2a2ff45cea80d45baeba0ee10",
            "31ea12a82f4b47079774458612f4d54f",
            "b802b8afe41343a385965e12655b5644",
            "f98560fe7f8b4a6c9819b77cdb2a347a",
            "06294deffb44402481c49d540eefd5a0"
          ]
        }
      },
      "execution_count": 3,
      "outputs": [
        {
          "output_type": "stream",
          "name": "stderr",
          "text": [
            "/usr/local/lib/python3.10/dist-packages/huggingface_hub/utils/_token.py:88: UserWarning: \n",
            "The secret `HF_TOKEN` does not exist in your Colab secrets.\n",
            "To authenticate with the Hugging Face Hub, create a token in your settings tab (https://huggingface.co/settings/tokens), set it as secret in your Google Colab and restart your session.\n",
            "You will be able to reuse this secret in all of your notebooks.\n",
            "Please note that authentication is recommended but still optional to access public models or datasets.\n",
            "  warnings.warn(\n"
          ]
        },
        {
          "output_type": "stream",
          "name": "stdout",
          "text": [
            "Loading detection model vikp/surya_det2 on device cuda with dtype torch.float16\n"
          ]
        },
        {
          "output_type": "display_data",
          "data": {
            "text/plain": [
              "config.json:   0%|          | 0.00/6.91k [00:00<?, ?B/s]"
            ],
            "application/vnd.jupyter.widget-view+json": {
              "version_major": 2,
              "version_minor": 0,
              "model_id": "da44d53bb7994b78b986e9c73c4020c6"
            }
          },
          "metadata": {}
        },
        {
          "output_type": "display_data",
          "data": {
            "text/plain": [
              "model.safetensors:   0%|          | 0.00/1.05G [00:00<?, ?B/s]"
            ],
            "application/vnd.jupyter.widget-view+json": {
              "version_major": 2,
              "version_minor": 0,
              "model_id": "6fdbb78d8ec74379a2efc3cb797c819e"
            }
          },
          "metadata": {}
        },
        {
          "output_type": "display_data",
          "data": {
            "text/plain": [
              "generation_config.json:   0%|          | 0.00/181 [00:00<?, ?B/s]"
            ],
            "application/vnd.jupyter.widget-view+json": {
              "version_major": 2,
              "version_minor": 0,
              "model_id": "0ca0d7a0dc65441ba983d80718ee29ed"
            }
          },
          "metadata": {}
        },
        {
          "output_type": "stream",
          "name": "stdout",
          "text": [
            "Loading recognition model vikp/surya_rec on device cuda with dtype torch.float16\n"
          ]
        },
        {
          "output_type": "display_data",
          "data": {
            "text/plain": [
              "preprocessor_config.json:   0%|          | 0.00/608 [00:00<?, ?B/s]"
            ],
            "application/vnd.jupyter.widget-view+json": {
              "version_major": 2,
              "version_minor": 0,
              "model_id": "75ef6047294b4b4682db2dd563650bbe"
            }
          },
          "metadata": {}
        }
      ]
    },
    {
      "cell_type": "code",
      "source": [
        "image = Image.open(image_path)\n",
        "predictions = run_ocr([image], [langs], det_model, det_processor, rec_model, rec_processor)\n"
      ],
      "metadata": {
        "id": "KhOWJOSYxakM",
        "outputId": "6ce8475f-99e1-4b38-e53b-f8522c1b5260",
        "colab": {
          "base_uri": "https://localhost:8080/"
        }
      },
      "execution_count": 4,
      "outputs": [
        {
          "output_type": "stream",
          "name": "stderr",
          "text": [
            "Detecting bboxes: 100%|██████████| 1/1 [00:00<00:00,  2.06it/s]\n",
            "Recognizing Text:   0%|          | 0/1 [00:00<?, ?it/s]/usr/local/lib/python3.10/dist-packages/transformers/generation/utils.py:1518: UserWarning: You have modified the pretrained model configuration to control generation. This is a deprecated strategy to control generation and will be removed soon, in a future version. Please use and modify the model generation configuration (see https://huggingface.co/docs/transformers/generation_strategies#default-text-generation-configuration )\n",
            "  warnings.warn(\n",
            "Recognizing Text: 100%|██████████| 1/1 [00:05<00:00,  5.43s/it]\n"
          ]
        }
      ]
    },
    {
      "cell_type": "code",
      "source": [
        "print(type(predictions))\n",
        "print(predictions)"
      ],
      "metadata": {
        "id": "Lw2GTpi_xzC_",
        "outputId": "4a61d4df-2dd2-4f78-8695-83b01d9c9f2e",
        "colab": {
          "base_uri": "https://localhost:8080/"
        }
      },
      "execution_count": 5,
      "outputs": [
        {
          "output_type": "stream",
          "name": "stdout",
          "text": [
            "<class 'list'>\n",
            "[OCRResult(text_lines=[TextLine(polygon=[[660.0, 4.0], [808.0, 4.0], [808.0, 21.0], [660.0, 21.0]], confidence=0.884765625, text='Mar 26  12:23 PM   ↓', bbox=[660.0, 4.0, 808.0, 21.0]), TextLine(polygon=[[4.0, 5.0], [80.0, 5.0], [80.0, 21.0], [4.0, 21.0]], confidence=0.8972389698028564, text='Activities', bbox=[4.0, 5.0, 80.0, 21.0]), TextLine(polygon=[[100.0, 5.0], [209.0, 6.0], [209.0, 22.0], [99.0, 21.0]], confidence=0.9167674779891968, text='  ', bbox=[100.0, 5.0, 209.0, 22.0]), TextLine(polygon=[[1253.0, 5.0], [1364.0, 5.0], [1364.0, 21.0], [1253.0, 21.0]], confidence=0.2924957275390625, text='A 4 O 1', bbox=[1253.0, 5.0, 1364.0, 21.0]), TextLine(polygon=[[643.0, 43.0], [800.0, 41.0], [800.0, 58.0], [644.0, 59.0]], confidence=0.941821277141571, text='computer@anushka: ~', bbox=[643.0, 43.0, 800.0, 58.0]), TextLine(polygon=[[84.0, 79.0], [254.0, 78.0], [255.0, 92.0], [84.0, 93.0]], confidence=0.8702392578125, text='|..+0  + S +  . +.|', bbox=[84.0, 79.0, 254.0, 92.0]), TextLine(polygon=[[96.0, 97.0], [254.0, 97.0], [254.0, 111.0], [96.0, 111.0]], confidence=0.8440659642219543, text='..0.. + + . 0.0|', bbox=[96.0, 97.0, 254.0, 111.0]), TextLine(polygon=[[103.0, 115.0], [254.0, 115.0], [254.0, 129.0], [103.0, 129.0]], confidence=0.795947253704071, text='.  ..0 o .. .0', bbox=[103.0, 115.0, 254.0, 129.0]), TextLine(polygon=[[111.0, 132.0], [254.0, 132.0], [254.0, 147.0], [111.0, 147.0]], confidence=0.899566650390625, text='....=.B .o . El', bbox=[111.0, 132.0, 254.0, 147.0]), TextLine(polygon=[[104.0, 151.0], [256.0, 151.0], [256.0, 165.0], [104.0, 165.0]], confidence=0.7679268717765808, text='....  ..=.  .', bbox=[104.0, 151.0, 256.0, 165.0]), TextLine(polygon=[[81.0, 167.0], [259.0, 167.0], [259.0, 183.0], [81.0, 183.0]], confidence=0.9211154580116272, text='+---[SHA256]----+', bbox=[81.0, 167.0, 259.0, 183.0]), TextLine(polygon=[[85.0, 185.0], [502.0, 185.0], [502.0, 201.0], [85.0, 201.0]], confidence=0.9718978404998779, text='(base) computer@computer:~$ ssh-cpy-id anushka', bbox=[85.0, 185.0, 502.0, 201.0]), TextLine(polygon=[[85.0, 220.0], [492.0, 220.0], [492.0, 238.0], [85.0, 238.0]], confidence=0.9761166572570801, text=\"Command 'ssh-cpy-id' not found, did you mean:\", bbox=[85.0, 220.0, 492.0, 238.0]), TextLine(polygon=[[93.0, 255.0], [696.0, 255.0], [696.0, 273.0], [93.0, 273.0]], confidence=0.9844187498092651, text=\"command 'ssh-copy-id' from deb openssh-client (1:8.2p1-4ubuntu0.9)\", bbox=[93.0, 255.0, 696.0, 273.0]), TextLine(polygon=[[81.0, 291.0], [374.0, 291.0], [374.0, 309.0], [81.0, 309.0]], confidence=0.9640595316886902, text='Try: sudo apt install <deb name>', bbox=[81.0, 291.0, 374.0, 309.0]), TextLine(polygon=[[81.0, 328.0], [440.0, 328.0], [440.0, 345.0], [81.0, 345.0]], confidence=0.966296374797821, text='(base) computer@computer:~$ ssh anushka', bbox=[81.0, 328.0, 440.0, 345.0]), TextLine(polygon=[[79.0, 347.0], [731.0, 343.0], [732.0, 362.0], [79.0, 366.0]], confidence=0.985251247882843, text=\"The authenticity of host 'anushka (172.16.181.84)' can't be established.\", bbox=[79.0, 347.0, 731.0, 362.0]), TextLine(polygon=[[78.0, 364.0], [767.0, 364.0], [767.0, 382.0], [78.0, 382.0]], confidence=0.9860364198684692, text='ECDSA key fingerprint is SHA256:UPuwajvCAJZtrjp0fX4PtsirZ/Q4WZkD4CYIS3BVn6s.', bbox=[78.0, 364.0, 767.0, 382.0]), TextLine(polygon=[[77.0, 383.0], [735.0, 383.0], [735.0, 401.0], [77.0, 401.0]], confidence=0.9861541986465454, text='Are you sure you want to continue connecting (yes/no/[fingerprint])? yes', bbox=[77.0, 383.0, 735.0, 401.0]), TextLine(polygon=[[76.0, 401.0], [858.0, 399.0], [858.0, 417.0], [76.0, 419.0]], confidence=0.9883710741996765, text=\"Warning: Permanently added 'anushka,172.16.181.84' (ECDSA) to the list of known hosts.\", bbox=[76.0, 401.0, 858.0, 417.0]), TextLine(polygon=[[77.0, 417.0], [339.0, 419.0], [339.0, 437.0], [77.0, 435.0]], confidence=0.9586308002471924, text=\"computer@anushka's password:\", bbox=[77.0, 417.0, 339.0, 437.0]), TextLine(polygon=[[77.0, 435.0], [687.0, 434.0], [687.0, 453.0], [77.0, 455.0]], confidence=0.9849422574043274, text='Welcome to Ubuntu 20.04.6 LTS (GNU/Linux 5.15.0-101-generic x86_64)', bbox=[77.0, 435.0, 687.0, 453.0]), TextLine(polygon=[[86.0, 471.0], [467.0, 471.0], [467.0, 490.0], [86.0, 490.0]], confidence=0.9740397334098816, text='* Documentation:  https://help.ubuntu.com', bbox=[86.0, 471.0, 467.0, 490.0]), TextLine(polygon=[[87.0, 491.0], [215.0, 492.0], [215.0, 508.0], [87.0, 507.0]], confidence=0.9256184697151184, text='* Management: ', bbox=[87.0, 491.0, 215.0, 508.0]), TextLine(polygon=[[244.0, 491.0], [539.0, 491.0], [539.0, 508.0], [244.0, 508.0]], confidence=0.9682159423828125, text='https://landscape.canonical.com', bbox=[244.0, 491.0, 539.0, 508.0]), TextLine(polygon=[[245.0, 509.0], [458.0, 509.0], [458.0, 526.0], [245.0, 526.0]], confidence=0.9558423757553101, text='https://ubuntu.com/pro', bbox=[245.0, 509.0, 458.0, 526.0]), TextLine(polygon=[[88.0, 510.0], [190.0, 510.0], [190.0, 526.0], [88.0, 526.0]], confidence=0.9032796025276184, text='* Support: ', bbox=[88.0, 510.0, 190.0, 526.0]), TextLine(polygon=[[84.0, 544.0], [640.0, 544.0], [640.0, 561.0], [84.0, 561.0]], confidence=0.9834526777267456, text='Expanded Security Maintenance for Applications is not enabled.', bbox=[84.0, 544.0, 640.0, 561.0]), TextLine(polygon=[[77.0, 580.0], [427.0, 579.0], [428.0, 597.0], [77.0, 599.0]], confidence=0.9735451936721802, text='27 updates can be applied immediately.', bbox=[77.0, 580.0, 427.0, 597.0]), TextLine(polygon=[[78.0, 599.0], [524.0, 599.0], [524.0, 615.0], [78.0, 615.0]], confidence=0.9798437356948853, text='2 of these updates are standard security updates.', bbox=[78.0, 599.0, 524.0, 615.0]), TextLine(polygon=[[80.0, 616.0], [609.0, 616.0], [609.0, 634.0], [80.0, 634.0]], confidence=0.9823887944221497, text='To see these additional updates run: apt list --upgradable', bbox=[80.0, 616.0, 609.0, 634.0]), TextLine(polygon=[[78.0, 652.0], [627.0, 652.0], [627.0, 669.0], [78.0, 669.0]], confidence=0.9832703471183777, text='12 additional security updates can be applied with ESM Apps.', bbox=[78.0, 652.0, 627.0, 669.0]), TextLine(polygon=[[83.0, 670.0], [698.0, 670.0], [698.0, 687.0], [83.0, 687.0]], confidence=0.9846439361572266, text='Learn more about enabling ESM Apps service at https://ubuntu.com/esm', bbox=[83.0, 670.0, 698.0, 687.0]), TextLine(polygon=[[76.0, 705.0], [687.0, 705.0], [687.0, 723.0], [76.0, 723.0]], confidence=0.9851433038711548, text='Your Hardware Enablement Stack (HWE) is supported until April 2025.', bbox=[76.0, 705.0, 687.0, 723.0]), TextLine(polygon=[[14.0, 708.0], [69.0, 708.0], [69.0, 723.0], [14.0, 723.0]], confidence=0.4025472104549408, text='00000', bbox=[14.0, 708.0, 69.0, 723.0]), TextLine(polygon=[[14.0, 722.0], [67.0, 722.0], [67.0, 737.0], [14.0, 737.0]], confidence=0.2948811948299408, text='00', bbox=[14.0, 722.0, 67.0, 737.0]), TextLine(polygon=[[77.0, 724.0], [588.0, 724.0], [588.0, 741.0], [77.0, 741.0]], confidence=0.9820621013641357, text='Last login: Wed Mar 20 11:28:02 2024 from 172.16.181.191', bbox=[77.0, 724.0, 588.0, 741.0]), TextLine(polygon=[[14.0, 737.0], [64.0, 737.0], [64.0, 750.0], [14.0, 750.0]], confidence=0.36767578125, text='00', bbox=[14.0, 737.0, 64.0, 750.0]), TextLine(polygon=[[79.0, 743.0], [332.0, 743.0], [332.0, 759.0], [79.0, 759.0]], confidence=0.9490966796875, text='(base) computer@anushka:~$ ', bbox=[79.0, 743.0, 332.0, 759.0])], languages=['en'], image_bbox=[0.0, 0.0, 1366.0, 768.0])]\n"
          ]
        }
      ]
    },
    {
      "cell_type": "code",
      "source": [
        "# Assuming `predictions` is your OCR predictions list\n",
        "extracted_text = []\n",
        "\n",
        "for result in predictions:\n",
        "    for text_line in result.text_lines:\n",
        "        extracted_text.append(text_line.text)\n",
        "\n",
        "# Join the extracted text lines into a single string\n",
        "extracted_text_string = ' '.join(extracted_text)\n",
        "\n",
        "# Print the extracted text\n",
        "print(extracted_text_string)\n"
      ],
      "metadata": {
        "id": "L6uAhxxPzbed",
        "outputId": "8714c7bf-b5f3-451c-dbb2-98d284164ae4",
        "colab": {
          "base_uri": "https://localhost:8080/"
        }
      },
      "execution_count": 6,
      "outputs": [
        {
          "output_type": "stream",
          "name": "stdout",
          "text": [
            "Mar 26  12:23 PM   ↓ Activities    A 4 O 1 computer@anushka: ~ |..+0  + S +  . +.| ..0.. + + . 0.0| .  ..0 o .. .0 ....=.B .o . El ....  ..=.  . +---[SHA256]----+ (base) computer@computer:~$ ssh-cpy-id anushka Command 'ssh-cpy-id' not found, did you mean: command 'ssh-copy-id' from deb openssh-client (1:8.2p1-4ubuntu0.9) Try: sudo apt install <deb name> (base) computer@computer:~$ ssh anushka The authenticity of host 'anushka (172.16.181.84)' can't be established. ECDSA key fingerprint is SHA256:UPuwajvCAJZtrjp0fX4PtsirZ/Q4WZkD4CYIS3BVn6s. Are you sure you want to continue connecting (yes/no/[fingerprint])? yes Warning: Permanently added 'anushka,172.16.181.84' (ECDSA) to the list of known hosts. computer@anushka's password: Welcome to Ubuntu 20.04.6 LTS (GNU/Linux 5.15.0-101-generic x86_64) * Documentation:  https://help.ubuntu.com * Management:  https://landscape.canonical.com https://ubuntu.com/pro * Support:  Expanded Security Maintenance for Applications is not enabled. 27 updates can be applied immediately. 2 of these updates are standard security updates. To see these additional updates run: apt list --upgradable 12 additional security updates can be applied with ESM Apps. Learn more about enabling ESM Apps service at https://ubuntu.com/esm Your Hardware Enablement Stack (HWE) is supported until April 2025. 00000 00 Last login: Wed Mar 20 11:28:02 2024 from 172.16.181.191 00 (base) computer@anushka:~$ \n"
          ]
        }
      ]
    },
    {
      "cell_type": "code",
      "source": [
        "# Assuming `predictions` is your OCR predictions list\n",
        "extracted_text = []\n",
        "\n",
        "for result in predictions:\n",
        "    for text_line in result.text_lines:\n",
        "        extracted_text.append(text_line.text)\n",
        "\n",
        "# Join the extracted text lines into a single string\n",
        "extracted_text_string = ' '.join(extracted_text)\n",
        "\n",
        "# Split the text into lines based on '.', ',' or other punctuation marks\n",
        "lines = []\n",
        "current_line = []\n",
        "\n",
        "for char in extracted_text_string:\n",
        "    if char in ['.', ',']:  # Split at '.' or ','\n",
        "        lines.append(''.join(current_line).strip())  # Join current line and append to lines\n",
        "        current_line = []  # Reset current line\n",
        "    else:\n",
        "        current_line.append(char)\n",
        "\n",
        "# Append the last line\n",
        "if current_line:\n",
        "    lines.append(''.join(current_line).strip())\n",
        "\n",
        "# Print each line on a new line\n",
        "for line in lines:\n",
        "    print(line)\n"
      ],
      "metadata": {
        "id": "-LI1TZNPZADb",
        "outputId": "84dc85f0-f363-4772-f87e-25d403e4ac81",
        "colab": {
          "base_uri": "https://localhost:8080/"
        }
      },
      "execution_count": 7,
      "outputs": [
        {
          "output_type": "stream",
          "name": "stdout",
          "text": [
            "Mar 26  12:23 PM   ↓ Activities    A 4 O 1 computer@anushka: ~ |\n",
            "\n",
            "+0  + S +\n",
            "+\n",
            "|\n",
            "\n",
            "0\n",
            "\n",
            "+ +\n",
            "0\n",
            "0|\n",
            "\n",
            "\n",
            "0 o\n",
            "\n",
            "\n",
            "0\n",
            "\n",
            "\n",
            "\n",
            "=\n",
            "B\n",
            "o\n",
            "El\n",
            "\n",
            "\n",
            "\n",
            "\n",
            "\n",
            "=\n",
            "\n",
            "+---[SHA256]----+ (base) computer@computer:~$ ssh-cpy-id anushka Command 'ssh-cpy-id' not found\n",
            "did you mean: command 'ssh-copy-id' from deb openssh-client (1:8\n",
            "2p1-4ubuntu0\n",
            "9) Try: sudo apt install <deb name> (base) computer@computer:~$ ssh anushka The authenticity of host 'anushka (172\n",
            "16\n",
            "181\n",
            "84)' can't be established\n",
            "ECDSA key fingerprint is SHA256:UPuwajvCAJZtrjp0fX4PtsirZ/Q4WZkD4CYIS3BVn6s\n",
            "Are you sure you want to continue connecting (yes/no/[fingerprint])? yes Warning: Permanently added 'anushka\n",
            "172\n",
            "16\n",
            "181\n",
            "84' (ECDSA) to the list of known hosts\n",
            "computer@anushka's password: Welcome to Ubuntu 20\n",
            "04\n",
            "6 LTS (GNU/Linux 5\n",
            "15\n",
            "0-101-generic x86_64) * Documentation:  https://help\n",
            "ubuntu\n",
            "com * Management:  https://landscape\n",
            "canonical\n",
            "com https://ubuntu\n",
            "com/pro * Support:  Expanded Security Maintenance for Applications is not enabled\n",
            "27 updates can be applied immediately\n",
            "2 of these updates are standard security updates\n",
            "To see these additional updates run: apt list --upgradable 12 additional security updates can be applied with ESM Apps\n",
            "Learn more about enabling ESM Apps service at https://ubuntu\n",
            "com/esm Your Hardware Enablement Stack (HWE) is supported until April 2025\n",
            "00000 00 Last login: Wed Mar 20 11:28:02 2024 from 172\n",
            "16\n",
            "181\n",
            "191 00 (base) computer@anushka:~$\n"
          ]
        }
      ]
    },
    {
      "cell_type": "code",
      "source": [],
      "metadata": {
        "id": "fM2Ou0zlZpwj"
      },
      "execution_count": null,
      "outputs": []
    }
  ]
}